{
 "cells": [
  {
   "cell_type": "code",
   "execution_count": 1,
   "metadata": {
    "collapsed": true
   },
   "outputs": [],
   "source": [
    "from rm_case_3 import *\n",
    "%matplotlib inline"
   ]
  },
  {
   "cell_type": "code",
   "execution_count": 2,
   "metadata": {},
   "outputs": [
    {
     "data": {
      "text/html": [
       "<div>\n",
       "<style scoped>\n",
       "    .dataframe tbody tr th:only-of-type {\n",
       "        vertical-align: middle;\n",
       "    }\n",
       "\n",
       "    .dataframe tbody tr th {\n",
       "        vertical-align: top;\n",
       "    }\n",
       "\n",
       "    .dataframe thead th {\n",
       "        text-align: right;\n",
       "    }\n",
       "</style>\n",
       "<table border=\"1\" class=\"dataframe\">\n",
       "  <thead>\n",
       "    <tr style=\"text-align: right;\">\n",
       "      <th></th>\n",
       "      <th>object</th>\n",
       "      <th>date</th>\n",
       "      <th>rating</th>\n",
       "      <th>type</th>\n",
       "    </tr>\n",
       "  </thead>\n",
       "  <tbody>\n",
       "    <tr>\n",
       "      <th>0</th>\n",
       "      <td>1</td>\n",
       "      <td>2012-07-01</td>\n",
       "      <td>E1</td>\n",
       "      <td>0</td>\n",
       "    </tr>\n",
       "    <tr>\n",
       "      <th>1</th>\n",
       "      <td>2</td>\n",
       "      <td>2012-07-01</td>\n",
       "      <td>E1</td>\n",
       "      <td>0</td>\n",
       "    </tr>\n",
       "    <tr>\n",
       "      <th>2</th>\n",
       "      <td>3</td>\n",
       "      <td>2012-07-01</td>\n",
       "      <td>E1</td>\n",
       "      <td>0</td>\n",
       "    </tr>\n",
       "    <tr>\n",
       "      <th>3</th>\n",
       "      <td>4</td>\n",
       "      <td>2012-07-01</td>\n",
       "      <td>E1</td>\n",
       "      <td>0</td>\n",
       "    </tr>\n",
       "    <tr>\n",
       "      <th>4</th>\n",
       "      <td>5</td>\n",
       "      <td>2012-07-01</td>\n",
       "      <td>E1</td>\n",
       "      <td>0</td>\n",
       "    </tr>\n",
       "  </tbody>\n",
       "</table>\n",
       "</div>"
      ],
      "text/plain": [
       "   object       date rating  type\n",
       "0       1 2012-07-01     E1     0\n",
       "1       2 2012-07-01     E1     0\n",
       "2       3 2012-07-01     E1     0\n",
       "3       4 2012-07-01     E1     0\n",
       "4       5 2012-07-01     E1     0"
      ]
     },
     "execution_count": 2,
     "metadata": {},
     "output_type": "execute_result"
    }
   ],
   "source": [
    "data.head()"
   ]
  },
  {
   "cell_type": "markdown",
   "metadata": {},
   "source": [
    "# 1. Введение"
   ]
  },
  {
   "cell_type": "code",
   "execution_count": 3,
   "metadata": {},
   "outputs": [
    {
     "data": {
      "text/plain": [
       "array([0, 1, 2, 3, 4])"
      ]
     },
     "execution_count": 3,
     "metadata": {},
     "output_type": "execute_result"
    }
   ],
   "source": [
    "data['type'].unique()"
   ]
  },
  {
   "cell_type": "markdown",
   "metadata": {},
   "source": [
    "Types:    \n",
    "1) contract expiration   \n",
    "2) client broke the contract    \n",
    "3) debt maturity    \n",
    "4) M&A/liquidation    "
   ]
  },
  {
   "cell_type": "markdown",
   "metadata": {},
   "source": [
    "## Определение события прекращения рейтингования      \n",
    "Мы используем следующий подход к отзыву рейтингов:     \n",
    "1. Если у объекта закончился контракт с рейтинговым агенством, либо он сам его разорвал, и если рейтингование продолжилось до конца окна исследования, такое наблюдение можно считать непрерванным и учесть как результат \"эксперимента\".    \n",
    "2. Если же у объекта истек срок долга или же он был поглощен другой компанией, новый рейтинг агента нельзя считать рейтингом старого объекта, так как объект теперь совершенно новый. Такой объект мы не рассматриваем в рамках окна.   "
   ]
  },
  {
   "cell_type": "markdown",
   "metadata": {},
   "source": [
    "# 2. ROC and CAP"
   ]
  },
  {
   "cell_type": "code",
   "execution_count": 4,
   "metadata": {
    "collapsed": true
   },
   "outputs": [],
   "source": [
    "year_1_migration_matrix = build_migration_matrix(start_date = dt.datetime(day = 1, month = 7, year = 2012),\n",
    "                                                 end_date = dt.datetime(day = 1, month = 7, year = 2013))\n",
    "\n",
    "year_2_migration_matrix = build_migration_matrix(start_date = dt.datetime(day = 1, month = 7, year = 2013),\n",
    "                                                 end_date = dt.datetime(day = 1, month = 7, year = 2014))\n",
    "\n",
    "year_3_migration_matrix = build_migration_matrix(start_date = dt.datetime(day = 1, month = 7, year = 2014),\n",
    "                                                 end_date = dt.datetime(day = 1, month = 7, year = 2015))\n",
    "\n",
    "year_4_migration_matrix = build_migration_matrix(start_date = dt.datetime(day = 1, month = 7, year = 2015),\n",
    "                                                 end_date = dt.datetime(day = 1, month = 7, year = 2016))\n",
    "\n",
    "year_5_migration_matrix = build_migration_matrix(start_date = dt.datetime(day = 30, month = 6, year = 2016),\n",
    "                                                 end_date = dt.datetime(day = 30, month = 6, year = 2017))"
   ]
  },
  {
   "cell_type": "code",
   "execution_count": 5,
   "metadata": {},
   "outputs": [
    {
     "data": {
      "text/html": [
       "<div>\n",
       "<style scoped>\n",
       "    .dataframe tbody tr th:only-of-type {\n",
       "        vertical-align: middle;\n",
       "    }\n",
       "\n",
       "    .dataframe tbody tr th {\n",
       "        vertical-align: top;\n",
       "    }\n",
       "\n",
       "    .dataframe thead th {\n",
       "        text-align: right;\n",
       "    }\n",
       "</style>\n",
       "<table border=\"1\" class=\"dataframe\">\n",
       "  <thead>\n",
       "    <tr style=\"text-align: right;\">\n",
       "      <th></th>\n",
       "      <th>R1</th>\n",
       "      <th>R2</th>\n",
       "      <th>R3</th>\n",
       "      <th>R4</th>\n",
       "      <th>R5</th>\n",
       "      <th>R6</th>\n",
       "      <th>R7</th>\n",
       "      <th>R8</th>\n",
       "      <th>D</th>\n",
       "    </tr>\n",
       "  </thead>\n",
       "  <tbody>\n",
       "    <tr>\n",
       "      <th>R1</th>\n",
       "      <td>59.0</td>\n",
       "      <td>1.0</td>\n",
       "      <td>0.0</td>\n",
       "      <td>0.0</td>\n",
       "      <td>0.0</td>\n",
       "      <td>0.0</td>\n",
       "      <td>0.0</td>\n",
       "      <td>0.0</td>\n",
       "      <td>0.0</td>\n",
       "    </tr>\n",
       "    <tr>\n",
       "      <th>R2</th>\n",
       "      <td>0.0</td>\n",
       "      <td>84.0</td>\n",
       "      <td>1.0</td>\n",
       "      <td>1.0</td>\n",
       "      <td>0.0</td>\n",
       "      <td>0.0</td>\n",
       "      <td>0.0</td>\n",
       "      <td>0.0</td>\n",
       "      <td>2.0</td>\n",
       "    </tr>\n",
       "    <tr>\n",
       "      <th>R3</th>\n",
       "      <td>3.0</td>\n",
       "      <td>4.0</td>\n",
       "      <td>106.0</td>\n",
       "      <td>3.0</td>\n",
       "      <td>6.0</td>\n",
       "      <td>1.0</td>\n",
       "      <td>0.0</td>\n",
       "      <td>0.0</td>\n",
       "      <td>5.0</td>\n",
       "    </tr>\n",
       "    <tr>\n",
       "      <th>R4</th>\n",
       "      <td>2.0</td>\n",
       "      <td>5.0</td>\n",
       "      <td>5.0</td>\n",
       "      <td>132.0</td>\n",
       "      <td>2.0</td>\n",
       "      <td>2.0</td>\n",
       "      <td>1.0</td>\n",
       "      <td>1.0</td>\n",
       "      <td>10.0</td>\n",
       "    </tr>\n",
       "    <tr>\n",
       "      <th>R5</th>\n",
       "      <td>0.0</td>\n",
       "      <td>0.0</td>\n",
       "      <td>1.0</td>\n",
       "      <td>4.0</td>\n",
       "      <td>63.0</td>\n",
       "      <td>5.0</td>\n",
       "      <td>5.0</td>\n",
       "      <td>0.0</td>\n",
       "      <td>9.0</td>\n",
       "    </tr>\n",
       "    <tr>\n",
       "      <th>R6</th>\n",
       "      <td>0.0</td>\n",
       "      <td>0.0</td>\n",
       "      <td>2.0</td>\n",
       "      <td>1.0</td>\n",
       "      <td>5.0</td>\n",
       "      <td>49.0</td>\n",
       "      <td>7.0</td>\n",
       "      <td>5.0</td>\n",
       "      <td>9.0</td>\n",
       "    </tr>\n",
       "    <tr>\n",
       "      <th>R7</th>\n",
       "      <td>0.0</td>\n",
       "      <td>1.0</td>\n",
       "      <td>0.0</td>\n",
       "      <td>0.0</td>\n",
       "      <td>3.0</td>\n",
       "      <td>4.0</td>\n",
       "      <td>40.0</td>\n",
       "      <td>9.0</td>\n",
       "      <td>12.0</td>\n",
       "    </tr>\n",
       "    <tr>\n",
       "      <th>R8</th>\n",
       "      <td>0.0</td>\n",
       "      <td>0.0</td>\n",
       "      <td>0.0</td>\n",
       "      <td>0.0</td>\n",
       "      <td>0.0</td>\n",
       "      <td>0.0</td>\n",
       "      <td>1.0</td>\n",
       "      <td>27.0</td>\n",
       "      <td>22.0</td>\n",
       "    </tr>\n",
       "    <tr>\n",
       "      <th>D</th>\n",
       "      <td>0.0</td>\n",
       "      <td>0.0</td>\n",
       "      <td>0.0</td>\n",
       "      <td>0.0</td>\n",
       "      <td>0.0</td>\n",
       "      <td>0.0</td>\n",
       "      <td>0.0</td>\n",
       "      <td>0.0</td>\n",
       "      <td>0.0</td>\n",
       "    </tr>\n",
       "  </tbody>\n",
       "</table>\n",
       "</div>"
      ],
      "text/plain": [
       "      R1    R2     R3     R4    R5    R6    R7    R8     D\n",
       "R1  59.0   1.0    0.0    0.0   0.0   0.0   0.0   0.0   0.0\n",
       "R2   0.0  84.0    1.0    1.0   0.0   0.0   0.0   0.0   2.0\n",
       "R3   3.0   4.0  106.0    3.0   6.0   1.0   0.0   0.0   5.0\n",
       "R4   2.0   5.0    5.0  132.0   2.0   2.0   1.0   1.0  10.0\n",
       "R5   0.0   0.0    1.0    4.0  63.0   5.0   5.0   0.0   9.0\n",
       "R6   0.0   0.0    2.0    1.0   5.0  49.0   7.0   5.0   9.0\n",
       "R7   0.0   1.0    0.0    0.0   3.0   4.0  40.0   9.0  12.0\n",
       "R8   0.0   0.0    0.0    0.0   0.0   0.0   1.0  27.0  22.0\n",
       "D    0.0   0.0    0.0    0.0   0.0   0.0   0.0   0.0   0.0"
      ]
     },
     "execution_count": 5,
     "metadata": {},
     "output_type": "execute_result"
    }
   ],
   "source": [
    "year_1_migration_matrix"
   ]
  },
  {
   "cell_type": "markdown",
   "metadata": {},
   "source": [
    "### CAP Curve"
   ]
  },
  {
   "cell_type": "code",
   "execution_count": 6,
   "metadata": {},
   "outputs": [
    {
     "name": "stdout",
     "output_type": "stream",
     "text": [
      "AUC-CAP: 0.747\n",
      "AR: 0.547\n"
     ]
    },
    {
     "data": {
      "image/png": "[encoded data removed]",
      "text/plain": [
       "<Figure size 720x360 with 1 Axes>"
      ]
     },
     "metadata": {
      "needs_background": "light"
     },
     "output_type": "display_data"
    }
   ],
   "source": [
    "cap_curve_1 = CAP_curve(migration_matrix = year_1_migration_matrix)\n",
    "plot_CAP(cap_curve_1)"
   ]
  },
  {
   "cell_type": "code",
   "execution_count": 7,
   "metadata": {},
   "outputs": [
    {
     "name": "stdout",
     "output_type": "stream",
     "text": [
      "AUC-CAP: 0.756\n",
      "AR: 0.578\n"
     ]
    },
    {
     "data": {
      "image/png": "[encoded data removed]",
      "text/plain": [
       "<Figure size 720x360 with 1 Axes>"
      ]
     },
     "metadata": {
      "needs_background": "light"
     },
     "output_type": "display_data"
    }
   ],
   "source": [
    "cap_curve_2 = CAP_curve(migration_matrix = year_2_migration_matrix)\n",
    "plot_CAP(cap_curve_2)"
   ]
  },
  {
   "cell_type": "code",
   "execution_count": 8,
   "metadata": {},
   "outputs": [
    {
     "name": "stdout",
     "output_type": "stream",
     "text": [
      "AUC-CAP: 0.745\n",
      "AR: 0.531\n"
     ]
    },
    {
     "data": {
      "image/png": "[encoded data removed]",
      "text/plain": [
       "<Figure size 720x360 with 1 Axes>"
      ]
     },
     "metadata": {
      "needs_background": "light"
     },
     "output_type": "display_data"
    }
   ],
   "source": [
    "cap_curve_3 = CAP_curve(migration_matrix = year_3_migration_matrix)\n",
    "plot_CAP(cap_curve_3)"
   ]
  },
  {
   "cell_type": "code",
   "execution_count": 9,
   "metadata": {},
   "outputs": [
    {
     "name": "stdout",
     "output_type": "stream",
     "text": [
      "AUC-CAP: 0.836\n",
      "AR: 0.717\n"
     ]
    },
    {
     "data": {
      "image/png": "[encoded data removed]",
      "text/plain": [
       "<Figure size 720x360 with 1 Axes>"
      ]
     },
     "metadata": {
      "needs_background": "light"
     },
     "output_type": "display_data"
    }
   ],
   "source": [
    "cap_curve_4 = CAP_curve(migration_matrix = year_4_migration_matrix)\n",
    "plot_CAP(cap_curve_4)"
   ]
  },
  {
   "cell_type": "code",
   "execution_count": 10,
   "metadata": {},
   "outputs": [
    {
     "name": "stdout",
     "output_type": "stream",
     "text": [
      "AUC-CAP: 0.88\n",
      "AR: 0.781\n"
     ]
    },
    {
     "data": {
      "image/png": "[encoded data removed]",
      "text/plain": [
       "<Figure size 720x360 with 1 Axes>"
      ]
     },
     "metadata": {
      "needs_background": "light"
     },
     "output_type": "display_data"
    }
   ],
   "source": [
    "cap_curve_5 = CAP_curve(migration_matrix = year_5_migration_matrix)\n",
    "plot_CAP(cap_curve_5)"
   ]
  },
  {
   "cell_type": "markdown",
   "metadata": {},
   "source": [
    "### ROC Curve"
   ]
  },
  {
   "cell_type": "code",
   "execution_count": 11,
   "metadata": {},
   "outputs": [
    {
     "name": "stdout",
     "output_type": "stream",
     "text": [
      "AUC-ROC: 0.773\n",
      "AR: 0.547\n"
     ]
    },
    {
     "data": {
      "image/png": "[encoded data removed]",
      "text/plain": [
       "<Figure size 720x360 with 1 Axes>"
      ]
     },
     "metadata": {
      "needs_background": "light"
     },
     "output_type": "display_data"
    }
   ],
   "source": [
    "ROC_1 = ROC_curve(year_1_migration_matrix)\n",
    "plot_ROC(ROC_1)"
   ]
  },
  {
   "cell_type": "code",
   "execution_count": 12,
   "metadata": {},
   "outputs": [
    {
     "name": "stdout",
     "output_type": "stream",
     "text": [
      "AUC-ROC: 0.789\n",
      "AR: 0.578\n"
     ]
    },
    {
     "data": {
      "image/png": "[encoded data removed]",
      "text/plain": [
       "<Figure size 720x360 with 1 Axes>"
      ]
     },
     "metadata": {
      "needs_background": "light"
     },
     "output_type": "display_data"
    }
   ],
   "source": [
    "ROC_2 = ROC_curve(year_2_migration_matrix)\n",
    "plot_ROC(ROC_2)"
   ]
  },
  {
   "cell_type": "code",
   "execution_count": 13,
   "metadata": {},
   "outputs": [
    {
     "name": "stdout",
     "output_type": "stream",
     "text": [
      "AUC-ROC: 0.766\n",
      "AR: 0.531\n"
     ]
    },
    {
     "data": {
      "image/png": "[encoded data removed]",
      "text/plain": [
       "<Figure size 720x360 with 1 Axes>"
      ]
     },
     "metadata": {
      "needs_background": "light"
     },
     "output_type": "display_data"
    }
   ],
   "source": [
    "ROC_3 = ROC_curve(year_3_migration_matrix)\n",
    "plot_ROC(ROC_3)"
   ]
  },
  {
   "cell_type": "code",
   "execution_count": 14,
   "metadata": {},
   "outputs": [
    {
     "name": "stdout",
     "output_type": "stream",
     "text": [
      "AUC-ROC: 0.858\n",
      "AR: 0.717\n"
     ]
    },
    {
     "data": {
      "image/png": "[encoded data removed]",
      "text/plain": [
       "<Figure size 720x360 with 1 Axes>"
      ]
     },
     "metadata": {
      "needs_background": "light"
     },
     "output_type": "display_data"
    }
   ],
   "source": [
    "ROC_4 = ROC_curve(year_4_migration_matrix)\n",
    "plot_ROC(ROC_4)"
   ]
  },
  {
   "cell_type": "code",
   "execution_count": 15,
   "metadata": {},
   "outputs": [
    {
     "name": "stdout",
     "output_type": "stream",
     "text": [
      "AUC-ROC: 0.891\n",
      "AR: 0.781\n"
     ]
    },
    {
     "data": {
      "image/png": "[encoded data removed]",
      "text/plain": [
       "<Figure size 720x360 with 1 Axes>"
      ]
     },
     "metadata": {
      "needs_background": "light"
     },
     "output_type": "display_data"
    }
   ],
   "source": [
    "ROC_5 = ROC_curve(year_5_migration_matrix)\n",
    "plot_ROC(ROC_5)"
   ]
  },
  {
   "cell_type": "markdown",
   "metadata": {},
   "source": [
    "### Комментарии \n",
    "Рейтинговая система в целом показывает хорошую разделяющую способность как на дефолтеров, так и на надежных заемщиков. Площади под CAP и ROC кривой относительно близки к идеальным сценариям, при этом наилучшее качество достигается в последнем году. Рейтинговая система безусловно лучше случайного угадывания о качестве заемщика."
   ]
  },
  {
   "cell_type": "markdown",
   "metadata": {},
   "source": [
    "# 3. Матрицы миграций и матрицы переходных вероятностей"
   ]
  },
  {
   "cell_type": "markdown",
   "metadata": {},
   "source": [
    "## Cohort method"
   ]
  },
  {
   "cell_type": "markdown",
   "metadata": {},
   "source": [
    "- Траектории монотонны.\n",
    "- Отбираем те, которые имеют рейтинг на конец и начало периода и не теряют рейтинг из-за событий 3 и 4."
   ]
  },
  {
   "cell_type": "markdown",
   "metadata": {},
   "source": [
    "$$ \n",
    "p_{ij} = \\frac{N_{ij}}{N_{i}} \n",
    "$$"
   ]
  },
  {
   "cell_type": "code",
   "execution_count": 16,
   "metadata": {},
   "outputs": [
    {
     "name": "stderr",
     "output_type": "stream",
     "text": [
      "/Users/andrey_lukyanov/Google_Drive/Studies/Year_4/Риск-менеджмент/Кейс 2/Risk-Management/rm_case_3.py:69: RuntimeWarning: invalid value encountered in true_divide\n",
      "  matrix = (np.matrix(migration_matrix).T / np.array(migration_matrix.sum(axis = 1))).T\n"
     ]
    }
   ],
   "source": [
    "year_1_probability_matrix = build_transition_probability_matrix(migration_matrix = year_1_migration_matrix)\n",
    "year_2_probability_matrix = build_transition_probability_matrix(migration_matrix = year_2_migration_matrix)\n",
    "year_3_probability_matrix = build_transition_probability_matrix(migration_matrix = year_3_migration_matrix)\n",
    "year_4_probability_matrix = build_transition_probability_matrix(migration_matrix = year_4_migration_matrix)\n",
    "year_5_probability_matrix = build_transition_probability_matrix(migration_matrix = year_5_migration_matrix)"
   ]
  },
  {
   "cell_type": "code",
   "execution_count": 17,
   "metadata": {},
   "outputs": [
    {
     "data": {
      "text/html": [
       "<div>\n",
       "<style scoped>\n",
       "    .dataframe tbody tr th:only-of-type {\n",
       "        vertical-align: middle;\n",
       "    }\n",
       "\n",
       "    .dataframe tbody tr th {\n",
       "        vertical-align: top;\n",
       "    }\n",
       "\n",
       "    .dataframe thead th {\n",
       "        text-align: right;\n",
       "    }\n",
       "</style>\n",
       "<table border=\"1\" class=\"dataframe\">\n",
       "  <thead>\n",
       "    <tr style=\"text-align: right;\">\n",
       "      <th></th>\n",
       "      <th>R1</th>\n",
       "      <th>R2</th>\n",
       "      <th>R3</th>\n",
       "      <th>R4</th>\n",
       "      <th>R5</th>\n",
       "      <th>R6</th>\n",
       "      <th>R7</th>\n",
       "      <th>R8</th>\n",
       "      <th>D</th>\n",
       "    </tr>\n",
       "  </thead>\n",
       "  <tbody>\n",
       "    <tr>\n",
       "      <th>R1</th>\n",
       "      <td>0.983333</td>\n",
       "      <td>0.016667</td>\n",
       "      <td>0.000000</td>\n",
       "      <td>0.000000</td>\n",
       "      <td>0.000000</td>\n",
       "      <td>0.000000</td>\n",
       "      <td>0.000000</td>\n",
       "      <td>0.000000</td>\n",
       "      <td>0.000000</td>\n",
       "    </tr>\n",
       "    <tr>\n",
       "      <th>R2</th>\n",
       "      <td>0.000000</td>\n",
       "      <td>0.954545</td>\n",
       "      <td>0.011364</td>\n",
       "      <td>0.011364</td>\n",
       "      <td>0.000000</td>\n",
       "      <td>0.000000</td>\n",
       "      <td>0.000000</td>\n",
       "      <td>0.000000</td>\n",
       "      <td>0.022727</td>\n",
       "    </tr>\n",
       "    <tr>\n",
       "      <th>R3</th>\n",
       "      <td>0.023438</td>\n",
       "      <td>0.031250</td>\n",
       "      <td>0.828125</td>\n",
       "      <td>0.023438</td>\n",
       "      <td>0.046875</td>\n",
       "      <td>0.007812</td>\n",
       "      <td>0.000000</td>\n",
       "      <td>0.000000</td>\n",
       "      <td>0.039062</td>\n",
       "    </tr>\n",
       "    <tr>\n",
       "      <th>R4</th>\n",
       "      <td>0.012500</td>\n",
       "      <td>0.031250</td>\n",
       "      <td>0.031250</td>\n",
       "      <td>0.825000</td>\n",
       "      <td>0.012500</td>\n",
       "      <td>0.012500</td>\n",
       "      <td>0.006250</td>\n",
       "      <td>0.006250</td>\n",
       "      <td>0.062500</td>\n",
       "    </tr>\n",
       "    <tr>\n",
       "      <th>R5</th>\n",
       "      <td>0.000000</td>\n",
       "      <td>0.000000</td>\n",
       "      <td>0.011494</td>\n",
       "      <td>0.045977</td>\n",
       "      <td>0.724138</td>\n",
       "      <td>0.057471</td>\n",
       "      <td>0.057471</td>\n",
       "      <td>0.000000</td>\n",
       "      <td>0.103448</td>\n",
       "    </tr>\n",
       "    <tr>\n",
       "      <th>R6</th>\n",
       "      <td>0.000000</td>\n",
       "      <td>0.000000</td>\n",
       "      <td>0.025641</td>\n",
       "      <td>0.012821</td>\n",
       "      <td>0.064103</td>\n",
       "      <td>0.628205</td>\n",
       "      <td>0.089744</td>\n",
       "      <td>0.064103</td>\n",
       "      <td>0.115385</td>\n",
       "    </tr>\n",
       "    <tr>\n",
       "      <th>R7</th>\n",
       "      <td>0.000000</td>\n",
       "      <td>0.014493</td>\n",
       "      <td>0.000000</td>\n",
       "      <td>0.000000</td>\n",
       "      <td>0.043478</td>\n",
       "      <td>0.057971</td>\n",
       "      <td>0.579710</td>\n",
       "      <td>0.130435</td>\n",
       "      <td>0.173913</td>\n",
       "    </tr>\n",
       "    <tr>\n",
       "      <th>R8</th>\n",
       "      <td>0.000000</td>\n",
       "      <td>0.000000</td>\n",
       "      <td>0.000000</td>\n",
       "      <td>0.000000</td>\n",
       "      <td>0.000000</td>\n",
       "      <td>0.000000</td>\n",
       "      <td>0.020000</td>\n",
       "      <td>0.540000</td>\n",
       "      <td>0.440000</td>\n",
       "    </tr>\n",
       "    <tr>\n",
       "      <th>D</th>\n",
       "      <td>0.000000</td>\n",
       "      <td>0.000000</td>\n",
       "      <td>0.000000</td>\n",
       "      <td>0.000000</td>\n",
       "      <td>0.000000</td>\n",
       "      <td>0.000000</td>\n",
       "      <td>0.000000</td>\n",
       "      <td>0.000000</td>\n",
       "      <td>0.000000</td>\n",
       "    </tr>\n",
       "  </tbody>\n",
       "</table>\n",
       "</div>"
      ],
      "text/plain": [
       "          R1        R2        R3        R4        R5        R6        R7  \\\n",
       "R1  0.983333  0.016667  0.000000  0.000000  0.000000  0.000000  0.000000   \n",
       "R2  0.000000  0.954545  0.011364  0.011364  0.000000  0.000000  0.000000   \n",
       "R3  0.023438  0.031250  0.828125  0.023438  0.046875  0.007812  0.000000   \n",
       "R4  0.012500  0.031250  0.031250  0.825000  0.012500  0.012500  0.006250   \n",
       "R5  0.000000  0.000000  0.011494  0.045977  0.724138  0.057471  0.057471   \n",
       "R6  0.000000  0.000000  0.025641  0.012821  0.064103  0.628205  0.089744   \n",
       "R7  0.000000  0.014493  0.000000  0.000000  0.043478  0.057971  0.579710   \n",
       "R8  0.000000  0.000000  0.000000  0.000000  0.000000  0.000000  0.020000   \n",
       "D   0.000000  0.000000  0.000000  0.000000  0.000000  0.000000  0.000000   \n",
       "\n",
       "          R8         D  \n",
       "R1  0.000000  0.000000  \n",
       "R2  0.000000  0.022727  \n",
       "R3  0.000000  0.039062  \n",
       "R4  0.006250  0.062500  \n",
       "R5  0.000000  0.103448  \n",
       "R6  0.064103  0.115385  \n",
       "R7  0.130435  0.173913  \n",
       "R8  0.540000  0.440000  \n",
       "D   0.000000  0.000000  "
      ]
     },
     "execution_count": 17,
     "metadata": {},
     "output_type": "execute_result"
    }
   ],
   "source": [
    "year_1_probability_matrix"
   ]
  },
  {
   "cell_type": "code",
   "execution_count": 18,
   "metadata": {},
   "outputs": [],
   "source": [
    "year3_1_migration_matrix = build_migration_matrix(start_date = dt.datetime(day = 1, month = 7, year = 2012), \n",
    "                                                  end_date = dt.datetime(day = 1, month = 7, year = 2015))\n",
    "year3_2_migration_matrix = build_migration_matrix(start_date = dt.datetime(day = 1, month = 7, year = 2013), \n",
    "                                                  end_date = dt.datetime(day = 1, month = 7, year = 2016))\n",
    "year3_3_migration_matrix = build_migration_matrix(start_date = dt.datetime(day = 1, month = 7, year = 2014), \n",
    "                                                  end_date = dt.datetime(day = 1, month = 7, year = 2017))"
   ]
  },
  {
   "cell_type": "code",
   "execution_count": 19,
   "metadata": {},
   "outputs": [],
   "source": [
    "year3_1_probability_matrix = build_transition_probability_matrix(migration_matrix = year3_1_migration_matrix)\n",
    "year3_2_probability_matrix = build_transition_probability_matrix(migration_matrix = year3_2_migration_matrix)\n",
    "year3_3_probability_matrix = build_transition_probability_matrix(migration_matrix = year3_3_migration_matrix)"
   ]
  },
  {
   "cell_type": "code",
   "execution_count": 20,
   "metadata": {},
   "outputs": [
    {
     "data": {
      "text/html": [
       "<div>\n",
       "<style scoped>\n",
       "    .dataframe tbody tr th:only-of-type {\n",
       "        vertical-align: middle;\n",
       "    }\n",
       "\n",
       "    .dataframe tbody tr th {\n",
       "        vertical-align: top;\n",
       "    }\n",
       "\n",
       "    .dataframe thead th {\n",
       "        text-align: right;\n",
       "    }\n",
       "</style>\n",
       "<table border=\"1\" class=\"dataframe\">\n",
       "  <thead>\n",
       "    <tr style=\"text-align: right;\">\n",
       "      <th></th>\n",
       "      <th>R1</th>\n",
       "      <th>R2</th>\n",
       "      <th>R3</th>\n",
       "      <th>R4</th>\n",
       "      <th>R5</th>\n",
       "      <th>R6</th>\n",
       "      <th>R7</th>\n",
       "      <th>R8</th>\n",
       "      <th>D</th>\n",
       "    </tr>\n",
       "  </thead>\n",
       "  <tbody>\n",
       "    <tr>\n",
       "      <th>R1</th>\n",
       "      <td>0.861538</td>\n",
       "      <td>0.076923</td>\n",
       "      <td>0.000000</td>\n",
       "      <td>0.000000</td>\n",
       "      <td>0.000000</td>\n",
       "      <td>0.000000</td>\n",
       "      <td>0.000000</td>\n",
       "      <td>0.000000</td>\n",
       "      <td>0.061538</td>\n",
       "    </tr>\n",
       "    <tr>\n",
       "      <th>R2</th>\n",
       "      <td>0.074468</td>\n",
       "      <td>0.755319</td>\n",
       "      <td>0.085106</td>\n",
       "      <td>0.021277</td>\n",
       "      <td>0.000000</td>\n",
       "      <td>0.000000</td>\n",
       "      <td>0.000000</td>\n",
       "      <td>0.000000</td>\n",
       "      <td>0.063830</td>\n",
       "    </tr>\n",
       "    <tr>\n",
       "      <th>R3</th>\n",
       "      <td>0.032787</td>\n",
       "      <td>0.040984</td>\n",
       "      <td>0.778689</td>\n",
       "      <td>0.081967</td>\n",
       "      <td>0.016393</td>\n",
       "      <td>0.000000</td>\n",
       "      <td>0.000000</td>\n",
       "      <td>0.000000</td>\n",
       "      <td>0.049180</td>\n",
       "    </tr>\n",
       "    <tr>\n",
       "      <th>R4</th>\n",
       "      <td>0.007576</td>\n",
       "      <td>0.075758</td>\n",
       "      <td>0.083333</td>\n",
       "      <td>0.515152</td>\n",
       "      <td>0.045455</td>\n",
       "      <td>0.007576</td>\n",
       "      <td>0.015152</td>\n",
       "      <td>0.022727</td>\n",
       "      <td>0.227273</td>\n",
       "    </tr>\n",
       "    <tr>\n",
       "      <th>R5</th>\n",
       "      <td>0.000000</td>\n",
       "      <td>0.000000</td>\n",
       "      <td>0.054795</td>\n",
       "      <td>0.109589</td>\n",
       "      <td>0.328767</td>\n",
       "      <td>0.150685</td>\n",
       "      <td>0.013699</td>\n",
       "      <td>0.054795</td>\n",
       "      <td>0.287671</td>\n",
       "    </tr>\n",
       "    <tr>\n",
       "      <th>R6</th>\n",
       "      <td>0.000000</td>\n",
       "      <td>0.000000</td>\n",
       "      <td>0.000000</td>\n",
       "      <td>0.052632</td>\n",
       "      <td>0.052632</td>\n",
       "      <td>0.333333</td>\n",
       "      <td>0.140351</td>\n",
       "      <td>0.052632</td>\n",
       "      <td>0.368421</td>\n",
       "    </tr>\n",
       "    <tr>\n",
       "      <th>R7</th>\n",
       "      <td>0.000000</td>\n",
       "      <td>0.000000</td>\n",
       "      <td>0.000000</td>\n",
       "      <td>0.019231</td>\n",
       "      <td>0.000000</td>\n",
       "      <td>0.019231</td>\n",
       "      <td>0.076923</td>\n",
       "      <td>0.096154</td>\n",
       "      <td>0.788462</td>\n",
       "    </tr>\n",
       "    <tr>\n",
       "      <th>R8</th>\n",
       "      <td>0.000000</td>\n",
       "      <td>0.000000</td>\n",
       "      <td>0.000000</td>\n",
       "      <td>0.000000</td>\n",
       "      <td>0.000000</td>\n",
       "      <td>0.097561</td>\n",
       "      <td>0.048780</td>\n",
       "      <td>0.170732</td>\n",
       "      <td>0.682927</td>\n",
       "    </tr>\n",
       "    <tr>\n",
       "      <th>D</th>\n",
       "      <td>0.000000</td>\n",
       "      <td>0.000000</td>\n",
       "      <td>0.000000</td>\n",
       "      <td>0.000000</td>\n",
       "      <td>0.000000</td>\n",
       "      <td>0.000000</td>\n",
       "      <td>0.000000</td>\n",
       "      <td>0.000000</td>\n",
       "      <td>0.000000</td>\n",
       "    </tr>\n",
       "  </tbody>\n",
       "</table>\n",
       "</div>"
      ],
      "text/plain": [
       "          R1        R2        R3        R4        R5        R6        R7  \\\n",
       "R1  0.861538  0.076923  0.000000  0.000000  0.000000  0.000000  0.000000   \n",
       "R2  0.074468  0.755319  0.085106  0.021277  0.000000  0.000000  0.000000   \n",
       "R3  0.032787  0.040984  0.778689  0.081967  0.016393  0.000000  0.000000   \n",
       "R4  0.007576  0.075758  0.083333  0.515152  0.045455  0.007576  0.015152   \n",
       "R5  0.000000  0.000000  0.054795  0.109589  0.328767  0.150685  0.013699   \n",
       "R6  0.000000  0.000000  0.000000  0.052632  0.052632  0.333333  0.140351   \n",
       "R7  0.000000  0.000000  0.000000  0.019231  0.000000  0.019231  0.076923   \n",
       "R8  0.000000  0.000000  0.000000  0.000000  0.000000  0.097561  0.048780   \n",
       "D   0.000000  0.000000  0.000000  0.000000  0.000000  0.000000  0.000000   \n",
       "\n",
       "          R8         D  \n",
       "R1  0.000000  0.061538  \n",
       "R2  0.000000  0.063830  \n",
       "R3  0.000000  0.049180  \n",
       "R4  0.022727  0.227273  \n",
       "R5  0.054795  0.287671  \n",
       "R6  0.052632  0.368421  \n",
       "R7  0.096154  0.788462  \n",
       "R8  0.170732  0.682927  \n",
       "D   0.000000  0.000000  "
      ]
     },
     "execution_count": 20,
     "metadata": {},
     "output_type": "execute_result"
    }
   ],
   "source": [
    "year3_2_probability_matrix"
   ]
  },
  {
   "cell_type": "code",
   "execution_count": 21,
   "metadata": {},
   "outputs": [
    {
     "data": {
      "text/html": [
       "<div>\n",
       "<style scoped>\n",
       "    .dataframe tbody tr th:only-of-type {\n",
       "        vertical-align: middle;\n",
       "    }\n",
       "\n",
       "    .dataframe tbody tr th {\n",
       "        vertical-align: top;\n",
       "    }\n",
       "\n",
       "    .dataframe thead th {\n",
       "        text-align: right;\n",
       "    }\n",
       "</style>\n",
       "<table border=\"1\" class=\"dataframe\">\n",
       "  <thead>\n",
       "    <tr style=\"text-align: right;\">\n",
       "      <th></th>\n",
       "      <th>R1</th>\n",
       "      <th>R2</th>\n",
       "      <th>R3</th>\n",
       "      <th>R4</th>\n",
       "      <th>R5</th>\n",
       "      <th>R6</th>\n",
       "      <th>R7</th>\n",
       "      <th>R8</th>\n",
       "      <th>D</th>\n",
       "    </tr>\n",
       "  </thead>\n",
       "  <tbody>\n",
       "    <tr>\n",
       "      <th>R1</th>\n",
       "      <td>0.832250</td>\n",
       "      <td>0.075639</td>\n",
       "      <td>0.003426</td>\n",
       "      <td>0.001619</td>\n",
       "      <td>0.000017</td>\n",
       "      <td>0.000008</td>\n",
       "      <td>0.000004</td>\n",
       "      <td>0.000013</td>\n",
       "      <td>0.028181</td>\n",
       "    </tr>\n",
       "    <tr>\n",
       "      <th>R2</th>\n",
       "      <td>0.027989</td>\n",
       "      <td>0.726777</td>\n",
       "      <td>0.105005</td>\n",
       "      <td>0.044374</td>\n",
       "      <td>0.001364</td>\n",
       "      <td>0.000737</td>\n",
       "      <td>0.000347</td>\n",
       "      <td>0.000963</td>\n",
       "      <td>0.030681</td>\n",
       "    </tr>\n",
       "    <tr>\n",
       "      <th>R3</th>\n",
       "      <td>0.043114</td>\n",
       "      <td>0.082408</td>\n",
       "      <td>0.781454</td>\n",
       "      <td>0.036277</td>\n",
       "      <td>0.001090</td>\n",
       "      <td>0.000588</td>\n",
       "      <td>0.000277</td>\n",
       "      <td>0.000770</td>\n",
       "      <td>0.019663</td>\n",
       "    </tr>\n",
       "    <tr>\n",
       "      <th>R4</th>\n",
       "      <td>0.002745</td>\n",
       "      <td>0.032985</td>\n",
       "      <td>0.120383</td>\n",
       "      <td>0.445033</td>\n",
       "      <td>0.045619</td>\n",
       "      <td>0.028353</td>\n",
       "      <td>0.012068</td>\n",
       "      <td>0.028523</td>\n",
       "      <td>0.085606</td>\n",
       "    </tr>\n",
       "    <tr>\n",
       "      <th>R5</th>\n",
       "      <td>0.001648</td>\n",
       "      <td>0.004480</td>\n",
       "      <td>0.080741</td>\n",
       "      <td>0.064164</td>\n",
       "      <td>0.344885</td>\n",
       "      <td>0.115030</td>\n",
       "      <td>0.047276</td>\n",
       "      <td>0.045087</td>\n",
       "      <td>0.102860</td>\n",
       "    </tr>\n",
       "    <tr>\n",
       "      <th>R6</th>\n",
       "      <td>0.000042</td>\n",
       "      <td>0.000144</td>\n",
       "      <td>0.006127</td>\n",
       "      <td>0.008939</td>\n",
       "      <td>0.095265</td>\n",
       "      <td>0.335650</td>\n",
       "      <td>0.087846</td>\n",
       "      <td>0.054331</td>\n",
       "      <td>0.133883</td>\n",
       "    </tr>\n",
       "    <tr>\n",
       "      <th>R7</th>\n",
       "      <td>0.000019</td>\n",
       "      <td>0.000550</td>\n",
       "      <td>0.002166</td>\n",
       "      <td>0.018187</td>\n",
       "      <td>0.003838</td>\n",
       "      <td>0.032556</td>\n",
       "      <td>0.049456</td>\n",
       "      <td>0.113388</td>\n",
       "      <td>0.139669</td>\n",
       "    </tr>\n",
       "    <tr>\n",
       "      <th>R8</th>\n",
       "      <td>0.000000</td>\n",
       "      <td>0.000006</td>\n",
       "      <td>0.000150</td>\n",
       "      <td>0.000937</td>\n",
       "      <td>0.006024</td>\n",
       "      <td>0.050042</td>\n",
       "      <td>0.019469</td>\n",
       "      <td>0.109028</td>\n",
       "      <td>0.120008</td>\n",
       "    </tr>\n",
       "    <tr>\n",
       "      <th>D</th>\n",
       "      <td>0.000000</td>\n",
       "      <td>0.000000</td>\n",
       "      <td>0.000000</td>\n",
       "      <td>0.000000</td>\n",
       "      <td>0.000000</td>\n",
       "      <td>0.000000</td>\n",
       "      <td>0.000000</td>\n",
       "      <td>0.000000</td>\n",
       "      <td>0.000000</td>\n",
       "    </tr>\n",
       "  </tbody>\n",
       "</table>\n",
       "</div>"
      ],
      "text/plain": [
       "          R1        R2        R3        R4        R5        R6        R7  \\\n",
       "R1  0.832250  0.075639  0.003426  0.001619  0.000017  0.000008  0.000004   \n",
       "R2  0.027989  0.726777  0.105005  0.044374  0.001364  0.000737  0.000347   \n",
       "R3  0.043114  0.082408  0.781454  0.036277  0.001090  0.000588  0.000277   \n",
       "R4  0.002745  0.032985  0.120383  0.445033  0.045619  0.028353  0.012068   \n",
       "R5  0.001648  0.004480  0.080741  0.064164  0.344885  0.115030  0.047276   \n",
       "R6  0.000042  0.000144  0.006127  0.008939  0.095265  0.335650  0.087846   \n",
       "R7  0.000019  0.000550  0.002166  0.018187  0.003838  0.032556  0.049456   \n",
       "R8  0.000000  0.000006  0.000150  0.000937  0.006024  0.050042  0.019469   \n",
       "D   0.000000  0.000000  0.000000  0.000000  0.000000  0.000000  0.000000   \n",
       "\n",
       "          R8         D  \n",
       "R1  0.000013  0.028181  \n",
       "R2  0.000963  0.030681  \n",
       "R3  0.000770  0.019663  \n",
       "R4  0.028523  0.085606  \n",
       "R5  0.045087  0.102860  \n",
       "R6  0.054331  0.133883  \n",
       "R7  0.113388  0.139669  \n",
       "R8  0.109028  0.120008  \n",
       "D   0.000000  0.000000  "
      ]
     },
     "execution_count": 21,
     "metadata": {},
     "output_type": "execute_result"
    }
   ],
   "source": [
    "year_2_probability_matrix @ year_2_probability_matrix @ year_2_probability_matrix"
   ]
  },
  {
   "cell_type": "code",
   "execution_count": 22,
   "metadata": {},
   "outputs": [
    {
     "data": {
      "text/html": [
       "<div>\n",
       "<style scoped>\n",
       "    .dataframe tbody tr th:only-of-type {\n",
       "        vertical-align: middle;\n",
       "    }\n",
       "\n",
       "    .dataframe tbody tr th {\n",
       "        vertical-align: top;\n",
       "    }\n",
       "\n",
       "    .dataframe thead th {\n",
       "        text-align: right;\n",
       "    }\n",
       "</style>\n",
       "<table border=\"1\" class=\"dataframe\">\n",
       "  <thead>\n",
       "    <tr style=\"text-align: right;\">\n",
       "      <th></th>\n",
       "      <th>R1</th>\n",
       "      <th>R2</th>\n",
       "      <th>R3</th>\n",
       "      <th>R4</th>\n",
       "      <th>R5</th>\n",
       "      <th>R6</th>\n",
       "      <th>R7</th>\n",
       "      <th>R8</th>\n",
       "      <th>D</th>\n",
       "    </tr>\n",
       "  </thead>\n",
       "  <tbody>\n",
       "    <tr>\n",
       "      <th>R1</th>\n",
       "      <td>0.847553</td>\n",
       "      <td>0.091189</td>\n",
       "      <td>0.002454</td>\n",
       "      <td>0.000032</td>\n",
       "      <td>0.000019</td>\n",
       "      <td>0.000000</td>\n",
       "      <td>0.000000</td>\n",
       "      <td>0.000000</td>\n",
       "      <td>0.013769</td>\n",
       "    </tr>\n",
       "    <tr>\n",
       "      <th>R2</th>\n",
       "      <td>0.060743</td>\n",
       "      <td>0.764384</td>\n",
       "      <td>0.083182</td>\n",
       "      <td>0.018118</td>\n",
       "      <td>0.002571</td>\n",
       "      <td>0.000128</td>\n",
       "      <td>0.000157</td>\n",
       "      <td>0.000415</td>\n",
       "      <td>0.010297</td>\n",
       "    </tr>\n",
       "    <tr>\n",
       "      <th>R3</th>\n",
       "      <td>0.041460</td>\n",
       "      <td>0.048703</td>\n",
       "      <td>0.750822</td>\n",
       "      <td>0.066283</td>\n",
       "      <td>0.028260</td>\n",
       "      <td>0.001185</td>\n",
       "      <td>0.000367</td>\n",
       "      <td>0.003961</td>\n",
       "      <td>0.013433</td>\n",
       "    </tr>\n",
       "    <tr>\n",
       "      <th>R4</th>\n",
       "      <td>0.015591</td>\n",
       "      <td>0.049857</td>\n",
       "      <td>0.094110</td>\n",
       "      <td>0.548697</td>\n",
       "      <td>0.043641</td>\n",
       "      <td>0.014909</td>\n",
       "      <td>0.010167</td>\n",
       "      <td>0.018359</td>\n",
       "      <td>0.048063</td>\n",
       "    </tr>\n",
       "    <tr>\n",
       "      <th>R5</th>\n",
       "      <td>0.002965</td>\n",
       "      <td>0.013820</td>\n",
       "      <td>0.054491</td>\n",
       "      <td>0.098691</td>\n",
       "      <td>0.339241</td>\n",
       "      <td>0.126189</td>\n",
       "      <td>0.032911</td>\n",
       "      <td>0.069161</td>\n",
       "      <td>0.086449</td>\n",
       "    </tr>\n",
       "    <tr>\n",
       "      <th>R6</th>\n",
       "      <td>0.000121</td>\n",
       "      <td>0.001075</td>\n",
       "      <td>0.001998</td>\n",
       "      <td>0.028876</td>\n",
       "      <td>0.067538</td>\n",
       "      <td>0.355158</td>\n",
       "      <td>0.087434</td>\n",
       "      <td>0.070597</td>\n",
       "      <td>0.071512</td>\n",
       "    </tr>\n",
       "    <tr>\n",
       "      <th>R7</th>\n",
       "      <td>0.000330</td>\n",
       "      <td>0.000909</td>\n",
       "      <td>0.001190</td>\n",
       "      <td>0.016598</td>\n",
       "      <td>0.019790</td>\n",
       "      <td>0.041398</td>\n",
       "      <td>0.133175</td>\n",
       "      <td>0.116944</td>\n",
       "      <td>0.146167</td>\n",
       "    </tr>\n",
       "    <tr>\n",
       "      <th>R8</th>\n",
       "      <td>0.000000</td>\n",
       "      <td>0.000000</td>\n",
       "      <td>0.000000</td>\n",
       "      <td>0.002923</td>\n",
       "      <td>0.004661</td>\n",
       "      <td>0.059240</td>\n",
       "      <td>0.031438</td>\n",
       "      <td>0.118938</td>\n",
       "      <td>0.154348</td>\n",
       "    </tr>\n",
       "    <tr>\n",
       "      <th>D</th>\n",
       "      <td>0.000000</td>\n",
       "      <td>0.000000</td>\n",
       "      <td>0.000000</td>\n",
       "      <td>0.000000</td>\n",
       "      <td>0.000000</td>\n",
       "      <td>0.000000</td>\n",
       "      <td>0.000000</td>\n",
       "      <td>0.000000</td>\n",
       "      <td>0.000000</td>\n",
       "    </tr>\n",
       "  </tbody>\n",
       "</table>\n",
       "</div>"
      ],
      "text/plain": [
       "          R1        R2        R3        R4        R5        R6        R7  \\\n",
       "R1  0.847553  0.091189  0.002454  0.000032  0.000019  0.000000  0.000000   \n",
       "R2  0.060743  0.764384  0.083182  0.018118  0.002571  0.000128  0.000157   \n",
       "R3  0.041460  0.048703  0.750822  0.066283  0.028260  0.001185  0.000367   \n",
       "R4  0.015591  0.049857  0.094110  0.548697  0.043641  0.014909  0.010167   \n",
       "R5  0.002965  0.013820  0.054491  0.098691  0.339241  0.126189  0.032911   \n",
       "R6  0.000121  0.001075  0.001998  0.028876  0.067538  0.355158  0.087434   \n",
       "R7  0.000330  0.000909  0.001190  0.016598  0.019790  0.041398  0.133175   \n",
       "R8  0.000000  0.000000  0.000000  0.002923  0.004661  0.059240  0.031438   \n",
       "D   0.000000  0.000000  0.000000  0.000000  0.000000  0.000000  0.000000   \n",
       "\n",
       "          R8         D  \n",
       "R1  0.000000  0.013769  \n",
       "R2  0.000415  0.010297  \n",
       "R3  0.003961  0.013433  \n",
       "R4  0.018359  0.048063  \n",
       "R5  0.069161  0.086449  \n",
       "R6  0.070597  0.071512  \n",
       "R7  0.116944  0.146167  \n",
       "R8  0.118938  0.154348  \n",
       "D   0.000000  0.000000  "
      ]
     },
     "execution_count": 22,
     "metadata": {},
     "output_type": "execute_result"
    }
   ],
   "source": [
    "year_2_probability_matrix @ year_3_probability_matrix @ year_4_probability_matrix"
   ]
  },
  {
   "cell_type": "code",
   "execution_count": 23,
   "metadata": {},
   "outputs": [
    {
     "data": {
      "text/html": [
       "<div>\n",
       "<style scoped>\n",
       "    .dataframe tbody tr th:only-of-type {\n",
       "        vertical-align: middle;\n",
       "    }\n",
       "\n",
       "    .dataframe tbody tr th {\n",
       "        vertical-align: top;\n",
       "    }\n",
       "\n",
       "    .dataframe thead th {\n",
       "        text-align: right;\n",
       "    }\n",
       "</style>\n",
       "<table border=\"1\" class=\"dataframe\">\n",
       "  <thead>\n",
       "    <tr style=\"text-align: right;\">\n",
       "      <th></th>\n",
       "      <th>R1</th>\n",
       "      <th>R2</th>\n",
       "      <th>R3</th>\n",
       "      <th>R4</th>\n",
       "      <th>R5</th>\n",
       "      <th>R6</th>\n",
       "      <th>R7</th>\n",
       "      <th>R8</th>\n",
       "      <th>D</th>\n",
       "    </tr>\n",
       "  </thead>\n",
       "  <tbody>\n",
       "    <tr>\n",
       "      <th>R1</th>\n",
       "      <td>0.013986</td>\n",
       "      <td>0.014266</td>\n",
       "      <td>0.002454</td>\n",
       "      <td>0.000032</td>\n",
       "      <td>0.000019</td>\n",
       "      <td>0.000000</td>\n",
       "      <td>0.000000</td>\n",
       "      <td>0.000000</td>\n",
       "      <td>0.047770</td>\n",
       "    </tr>\n",
       "    <tr>\n",
       "      <th>R2</th>\n",
       "      <td>0.013725</td>\n",
       "      <td>0.009065</td>\n",
       "      <td>0.001924</td>\n",
       "      <td>0.003159</td>\n",
       "      <td>0.002571</td>\n",
       "      <td>0.000128</td>\n",
       "      <td>0.000157</td>\n",
       "      <td>0.000415</td>\n",
       "      <td>0.053533</td>\n",
       "    </tr>\n",
       "    <tr>\n",
       "      <th>R3</th>\n",
       "      <td>0.008673</td>\n",
       "      <td>0.007719</td>\n",
       "      <td>0.027867</td>\n",
       "      <td>0.015684</td>\n",
       "      <td>0.011866</td>\n",
       "      <td>0.001185</td>\n",
       "      <td>0.000367</td>\n",
       "      <td>0.003961</td>\n",
       "      <td>0.035747</td>\n",
       "    </tr>\n",
       "    <tr>\n",
       "      <th>R4</th>\n",
       "      <td>0.008015</td>\n",
       "      <td>0.025900</td>\n",
       "      <td>0.010777</td>\n",
       "      <td>0.033545</td>\n",
       "      <td>0.001814</td>\n",
       "      <td>0.007333</td>\n",
       "      <td>0.004984</td>\n",
       "      <td>0.004368</td>\n",
       "      <td>0.179210</td>\n",
       "    </tr>\n",
       "    <tr>\n",
       "      <th>R5</th>\n",
       "      <td>0.002965</td>\n",
       "      <td>0.013820</td>\n",
       "      <td>0.000304</td>\n",
       "      <td>0.010898</td>\n",
       "      <td>0.010474</td>\n",
       "      <td>0.024496</td>\n",
       "      <td>0.019213</td>\n",
       "      <td>0.014367</td>\n",
       "      <td>0.201223</td>\n",
       "    </tr>\n",
       "    <tr>\n",
       "      <th>R6</th>\n",
       "      <td>0.000121</td>\n",
       "      <td>0.001075</td>\n",
       "      <td>0.001998</td>\n",
       "      <td>0.023756</td>\n",
       "      <td>0.014906</td>\n",
       "      <td>0.021824</td>\n",
       "      <td>0.052917</td>\n",
       "      <td>0.017965</td>\n",
       "      <td>0.296909</td>\n",
       "    </tr>\n",
       "    <tr>\n",
       "      <th>R7</th>\n",
       "      <td>0.000330</td>\n",
       "      <td>0.000909</td>\n",
       "      <td>0.001190</td>\n",
       "      <td>0.002632</td>\n",
       "      <td>0.019790</td>\n",
       "      <td>0.022167</td>\n",
       "      <td>0.056252</td>\n",
       "      <td>0.020790</td>\n",
       "      <td>0.642294</td>\n",
       "    </tr>\n",
       "    <tr>\n",
       "      <th>R8</th>\n",
       "      <td>0.000000</td>\n",
       "      <td>0.000000</td>\n",
       "      <td>0.000000</td>\n",
       "      <td>0.002923</td>\n",
       "      <td>0.004661</td>\n",
       "      <td>0.038321</td>\n",
       "      <td>0.017343</td>\n",
       "      <td>0.051794</td>\n",
       "      <td>0.528579</td>\n",
       "    </tr>\n",
       "    <tr>\n",
       "      <th>D</th>\n",
       "      <td>0.000000</td>\n",
       "      <td>0.000000</td>\n",
       "      <td>0.000000</td>\n",
       "      <td>0.000000</td>\n",
       "      <td>0.000000</td>\n",
       "      <td>0.000000</td>\n",
       "      <td>0.000000</td>\n",
       "      <td>0.000000</td>\n",
       "      <td>0.000000</td>\n",
       "    </tr>\n",
       "  </tbody>\n",
       "</table>\n",
       "</div>"
      ],
      "text/plain": [
       "          R1        R2        R3        R4        R5        R6        R7  \\\n",
       "R1  0.013986  0.014266  0.002454  0.000032  0.000019  0.000000  0.000000   \n",
       "R2  0.013725  0.009065  0.001924  0.003159  0.002571  0.000128  0.000157   \n",
       "R3  0.008673  0.007719  0.027867  0.015684  0.011866  0.001185  0.000367   \n",
       "R4  0.008015  0.025900  0.010777  0.033545  0.001814  0.007333  0.004984   \n",
       "R5  0.002965  0.013820  0.000304  0.010898  0.010474  0.024496  0.019213   \n",
       "R6  0.000121  0.001075  0.001998  0.023756  0.014906  0.021824  0.052917   \n",
       "R7  0.000330  0.000909  0.001190  0.002632  0.019790  0.022167  0.056252   \n",
       "R8  0.000000  0.000000  0.000000  0.002923  0.004661  0.038321  0.017343   \n",
       "D   0.000000  0.000000  0.000000  0.000000  0.000000  0.000000  0.000000   \n",
       "\n",
       "          R8         D  \n",
       "R1  0.000000  0.047770  \n",
       "R2  0.000415  0.053533  \n",
       "R3  0.003961  0.035747  \n",
       "R4  0.004368  0.179210  \n",
       "R5  0.014367  0.201223  \n",
       "R6  0.017965  0.296909  \n",
       "R7  0.020790  0.642294  \n",
       "R8  0.051794  0.528579  \n",
       "D   0.000000  0.000000  "
      ]
     },
     "execution_count": 23,
     "metadata": {},
     "output_type": "execute_result"
    }
   ],
   "source": [
    "abs(year3_2_probability_matrix - year_2_probability_matrix @ year_3_probability_matrix @ year_4_probability_matrix)"
   ]
  },
  {
   "cell_type": "markdown",
   "metadata": {},
   "source": [
    "Оценки отличаются, потому что построены на разном множестве наблюдений. Оценка, построенная по большему множеству наблюдений, должна быть точнее, поэтому из двух матриц лучше пользоваться той, которая получается перемножением. С другой стороны, у этой матрицы вероятности дефолта существенно ниже, чем у трехлетней матрицы, что настораживает."
   ]
  },
  {
   "cell_type": "markdown",
   "metadata": {},
   "source": [
    "Можно также заметить, что оценки вероятностей переходов, полученные когортным методов, содержат нулевые элементы, что не соответствует реальности."
   ]
  },
  {
   "cell_type": "markdown",
   "metadata": {},
   "source": [
    "## Duration method"
   ]
  },
  {
   "cell_type": "markdown",
   "metadata": {},
   "source": [
    "- Вне диагонали: переходы и $i$ в $j$.\n",
    "- По диагонали: суммарное время, проведенное агентами в категории $i$."
   ]
  },
  {
   "cell_type": "code",
   "execution_count": 24,
   "metadata": {},
   "outputs": [],
   "source": [
    "year_1_duration_migration = build_duration_migration_matrix(start_date = dt.datetime(day = 1, month = 7, year = 2012),\n",
    "                                                            end_date = dt.datetime(day = 1, month = 7, year = 2013))\n",
    "year_2_duration_migration = build_duration_migration_matrix(start_date = dt.datetime(day = 1, month = 7, year = 2013),\n",
    "                                                            end_date = dt.datetime(day = 1, month = 7, year = 2014))\n",
    "year_3_duration_migration = build_duration_migration_matrix(start_date = dt.datetime(day = 1, month = 7, year = 2014),\n",
    "                                                            end_date = dt.datetime(day = 1, month = 7, year = 2015))\n",
    "year_4_duration_migration = build_duration_migration_matrix(start_date = dt.datetime(day = 1, month = 7, year = 2015),\n",
    "                                                            end_date = dt.datetime(day = 1, month = 7, year = 2016))\n",
    "year_5_duration_migration = build_duration_migration_matrix(start_date = dt.datetime(day = 30, month = 6, year = 2016),\n",
    "                                                            end_date = dt.datetime(day = 1, month = 7, year = 2017))\n",
    "\n",
    "year3_1_duration_migration = build_duration_migration_matrix(start_date = dt.datetime(day = 1, month = 7, year = 2012),\n",
    "                                                             end_date = dt.datetime(day = 1, month = 7, year = 2015))\n",
    "year3_2_duration_migration = build_duration_migration_matrix(start_date = dt.datetime(day = 1, month = 7, year = 2013),\n",
    "                                                             end_date = dt.datetime(day = 1, month = 7, year = 2016))\n",
    "year3_3_duration_migration = build_duration_migration_matrix(start_date = dt.datetime(day = 1, month = 7, year = 2014),\n",
    "                                                             end_date = dt.datetime(day = 1, month = 7, year = 2017))"
   ]
  },
  {
   "cell_type": "markdown",
   "metadata": {},
   "source": [
    "### Generator matrix"
   ]
  },
  {
   "cell_type": "markdown",
   "metadata": {},
   "source": [
    "$$\n",
    "\\lambda_{ij} = \\frac{N_{ij}}{\\sum_{m = 1}^{M} t_m}\n",
    "$$"
   ]
  },
  {
   "cell_type": "markdown",
   "metadata": {},
   "source": [
    "$$\n",
    "\\lambda_{ii} = - \\sum_{i = 1}^n \\lambda_i\n",
    "$$"
   ]
  },
  {
   "cell_type": "code",
   "execution_count": 26,
   "metadata": {},
   "outputs": [],
   "source": [
    "year_1_generator = build_generator_matrix(year_1_duration_migration)\n",
    "year_2_generator = build_generator_matrix(year_2_duration_migration)\n",
    "year_3_generator = build_generator_matrix(year_3_duration_migration)\n",
    "year_4_generator = build_generator_matrix(year_4_duration_migration)\n",
    "year_5_generator = build_generator_matrix(year_5_duration_migration)\n",
    "\n",
    "year3_1_generator = build_generator_matrix(year3_1_duration_migration)\n",
    "year3_2_generator = build_generator_matrix(year3_2_duration_migration)\n",
    "year3_3_generator = build_generator_matrix(year3_3_duration_migration)"
   ]
  },
  {
   "cell_type": "code",
   "execution_count": 29,
   "metadata": {},
   "outputs": [
    {
     "data": {
      "text/html": [
       "<div>\n",
       "<style scoped>\n",
       "    .dataframe tbody tr th:only-of-type {\n",
       "        vertical-align: middle;\n",
       "    }\n",
       "\n",
       "    .dataframe tbody tr th {\n",
       "        vertical-align: top;\n",
       "    }\n",
       "\n",
       "    .dataframe thead th {\n",
       "        text-align: right;\n",
       "    }\n",
       "</style>\n",
       "<table border=\"1\" class=\"dataframe\">\n",
       "  <thead>\n",
       "    <tr style=\"text-align: right;\">\n",
       "      <th></th>\n",
       "      <th>R1</th>\n",
       "      <th>R2</th>\n",
       "      <th>R3</th>\n",
       "      <th>R4</th>\n",
       "      <th>R5</th>\n",
       "      <th>R6</th>\n",
       "      <th>R7</th>\n",
       "      <th>R8</th>\n",
       "      <th>D</th>\n",
       "    </tr>\n",
       "  </thead>\n",
       "  <tbody>\n",
       "    <tr>\n",
       "      <th>R1</th>\n",
       "      <td>-0.015231</td>\n",
       "      <td>0.015231</td>\n",
       "      <td>0.000000</td>\n",
       "      <td>0.000000</td>\n",
       "      <td>0.000000</td>\n",
       "      <td>0.000000</td>\n",
       "      <td>0.000000</td>\n",
       "      <td>0.000000</td>\n",
       "      <td>0.000000</td>\n",
       "    </tr>\n",
       "    <tr>\n",
       "      <th>R2</th>\n",
       "      <td>0.000000</td>\n",
       "      <td>-0.051880</td>\n",
       "      <td>0.010376</td>\n",
       "      <td>0.010376</td>\n",
       "      <td>0.010376</td>\n",
       "      <td>0.000000</td>\n",
       "      <td>0.000000</td>\n",
       "      <td>0.000000</td>\n",
       "      <td>0.020752</td>\n",
       "    </tr>\n",
       "    <tr>\n",
       "      <th>R3</th>\n",
       "      <td>0.023142</td>\n",
       "      <td>0.038570</td>\n",
       "      <td>-0.208279</td>\n",
       "      <td>0.030856</td>\n",
       "      <td>0.069426</td>\n",
       "      <td>0.007714</td>\n",
       "      <td>0.000000</td>\n",
       "      <td>0.000000</td>\n",
       "      <td>0.038570</td>\n",
       "    </tr>\n",
       "    <tr>\n",
       "      <th>R4</th>\n",
       "      <td>0.012399</td>\n",
       "      <td>0.030999</td>\n",
       "      <td>0.030999</td>\n",
       "      <td>-0.185991</td>\n",
       "      <td>0.018599</td>\n",
       "      <td>0.037198</td>\n",
       "      <td>0.006200</td>\n",
       "      <td>0.000000</td>\n",
       "      <td>0.049598</td>\n",
       "    </tr>\n",
       "    <tr>\n",
       "      <th>R5</th>\n",
       "      <td>0.000000</td>\n",
       "      <td>0.023718</td>\n",
       "      <td>0.035577</td>\n",
       "      <td>0.059294</td>\n",
       "      <td>-0.343907</td>\n",
       "      <td>0.059294</td>\n",
       "      <td>0.059294</td>\n",
       "      <td>0.023718</td>\n",
       "      <td>0.083012</td>\n",
       "    </tr>\n",
       "    <tr>\n",
       "      <th>R6</th>\n",
       "      <td>0.000000</td>\n",
       "      <td>0.000000</td>\n",
       "      <td>0.028468</td>\n",
       "      <td>0.028468</td>\n",
       "      <td>0.099638</td>\n",
       "      <td>-0.512426</td>\n",
       "      <td>0.142340</td>\n",
       "      <td>0.085404</td>\n",
       "      <td>0.128106</td>\n",
       "    </tr>\n",
       "    <tr>\n",
       "      <th>R7</th>\n",
       "      <td>0.000000</td>\n",
       "      <td>0.000000</td>\n",
       "      <td>0.000000</td>\n",
       "      <td>0.000000</td>\n",
       "      <td>0.050062</td>\n",
       "      <td>0.083436</td>\n",
       "      <td>-0.550677</td>\n",
       "      <td>0.283682</td>\n",
       "      <td>0.133497</td>\n",
       "    </tr>\n",
       "    <tr>\n",
       "      <th>R8</th>\n",
       "      <td>0.000000</td>\n",
       "      <td>0.000000</td>\n",
       "      <td>0.000000</td>\n",
       "      <td>0.000000</td>\n",
       "      <td>0.000000</td>\n",
       "      <td>0.043898</td>\n",
       "      <td>0.021949</td>\n",
       "      <td>-0.724318</td>\n",
       "      <td>0.658471</td>\n",
       "    </tr>\n",
       "    <tr>\n",
       "      <th>D</th>\n",
       "      <td>0.000000</td>\n",
       "      <td>0.000000</td>\n",
       "      <td>0.000000</td>\n",
       "      <td>0.000000</td>\n",
       "      <td>0.000000</td>\n",
       "      <td>0.000000</td>\n",
       "      <td>0.000000</td>\n",
       "      <td>0.000000</td>\n",
       "      <td>0.000000</td>\n",
       "    </tr>\n",
       "  </tbody>\n",
       "</table>\n",
       "</div>"
      ],
      "text/plain": [
       "          R1        R2        R3        R4        R5        R6        R7  \\\n",
       "R1 -0.015231  0.015231  0.000000  0.000000  0.000000  0.000000  0.000000   \n",
       "R2  0.000000 -0.051880  0.010376  0.010376  0.010376  0.000000  0.000000   \n",
       "R3  0.023142  0.038570 -0.208279  0.030856  0.069426  0.007714  0.000000   \n",
       "R4  0.012399  0.030999  0.030999 -0.185991  0.018599  0.037198  0.006200   \n",
       "R5  0.000000  0.023718  0.035577  0.059294 -0.343907  0.059294  0.059294   \n",
       "R6  0.000000  0.000000  0.028468  0.028468  0.099638 -0.512426  0.142340   \n",
       "R7  0.000000  0.000000  0.000000  0.000000  0.050062  0.083436 -0.550677   \n",
       "R8  0.000000  0.000000  0.000000  0.000000  0.000000  0.043898  0.021949   \n",
       "D   0.000000  0.000000  0.000000  0.000000  0.000000  0.000000  0.000000   \n",
       "\n",
       "          R8         D  \n",
       "R1  0.000000  0.000000  \n",
       "R2  0.000000  0.020752  \n",
       "R3  0.000000  0.038570  \n",
       "R4  0.000000  0.049598  \n",
       "R5  0.023718  0.083012  \n",
       "R6  0.085404  0.128106  \n",
       "R7  0.283682  0.133497  \n",
       "R8 -0.724318  0.658471  \n",
       "D   0.000000  0.000000  "
      ]
     },
     "execution_count": 29,
     "metadata": {},
     "output_type": "execute_result"
    }
   ],
   "source": [
    "year_1_generator"
   ]
  },
  {
   "cell_type": "markdown",
   "metadata": {},
   "source": [
    "### Matrix exponential"
   ]
  },
  {
   "cell_type": "markdown",
   "metadata": {},
   "source": [
    "$$\n",
    "e^{\\Lambda} = \\sum_{n=0}^{\\infty} \\frac{1}{n!} X^n\n",
    "$$ "
   ]
  },
  {
   "cell_type": "code",
   "execution_count": 36,
   "metadata": {},
   "outputs": [],
   "source": [
    "year_1_exponential = build_matrix_exponential(year_1_generator)\n",
    "year_2_exponential = build_matrix_exponential(year_2_generator)\n",
    "year_3_exponential = build_matrix_exponential(year_3_generator)\n",
    "year_4_exponential = build_matrix_exponential(year_4_generator)\n",
    "year_5_exponential = build_matrix_exponential(year_5_generator)\n",
    "\n",
    "year3_1_exponential = build_matrix_exponential(year3_1_generator)\n",
    "year3_2_exponential = build_matrix_exponential(year3_2_generator)\n",
    "year3_3_exponential = build_matrix_exponential(year3_3_generator)"
   ]
  },
  {
   "cell_type": "code",
   "execution_count": 37,
   "metadata": {},
   "outputs": [
    {
     "data": {
      "text/html": [
       "<div>\n",
       "<style scoped>\n",
       "    .dataframe tbody tr th:only-of-type {\n",
       "        vertical-align: middle;\n",
       "    }\n",
       "\n",
       "    .dataframe tbody tr th {\n",
       "        vertical-align: top;\n",
       "    }\n",
       "\n",
       "    .dataframe thead th {\n",
       "        text-align: right;\n",
       "    }\n",
       "</style>\n",
       "<table border=\"1\" class=\"dataframe\">\n",
       "  <thead>\n",
       "    <tr style=\"text-align: right;\">\n",
       "      <th></th>\n",
       "      <th>R1</th>\n",
       "      <th>R2</th>\n",
       "      <th>R3</th>\n",
       "      <th>R4</th>\n",
       "      <th>R5</th>\n",
       "      <th>R6</th>\n",
       "      <th>R7</th>\n",
       "      <th>R8</th>\n",
       "      <th>D</th>\n",
       "    </tr>\n",
       "  </thead>\n",
       "  <tbody>\n",
       "    <tr>\n",
       "      <th>R1</th>\n",
       "      <td>0.854248</td>\n",
       "      <td>0.082978</td>\n",
       "      <td>0.004238</td>\n",
       "      <td>0.000807</td>\n",
       "      <td>0.000088</td>\n",
       "      <td>0.000013</td>\n",
       "      <td>0.000006</td>\n",
       "      <td>0.000012</td>\n",
       "      <td>0.057611</td>\n",
       "    </tr>\n",
       "    <tr>\n",
       "      <th>R2</th>\n",
       "      <td>0.055611</td>\n",
       "      <td>0.772815</td>\n",
       "      <td>0.080046</td>\n",
       "      <td>0.015590</td>\n",
       "      <td>0.002369</td>\n",
       "      <td>0.000415</td>\n",
       "      <td>0.000176</td>\n",
       "      <td>0.000349</td>\n",
       "      <td>0.072630</td>\n",
       "    </tr>\n",
       "    <tr>\n",
       "      <th>R3</th>\n",
       "      <td>0.036639</td>\n",
       "      <td>0.048076</td>\n",
       "      <td>0.753121</td>\n",
       "      <td>0.058729</td>\n",
       "      <td>0.032536</td>\n",
       "      <td>0.004850</td>\n",
       "      <td>0.001966</td>\n",
       "      <td>0.002795</td>\n",
       "      <td>0.061289</td>\n",
       "    </tr>\n",
       "    <tr>\n",
       "      <th>R4</th>\n",
       "      <td>0.015706</td>\n",
       "      <td>0.048864</td>\n",
       "      <td>0.097798</td>\n",
       "      <td>0.556755</td>\n",
       "      <td>0.045326</td>\n",
       "      <td>0.022727</td>\n",
       "      <td>0.009304</td>\n",
       "      <td>0.020869</td>\n",
       "      <td>0.182650</td>\n",
       "    </tr>\n",
       "    <tr>\n",
       "      <th>R5</th>\n",
       "      <td>0.002946</td>\n",
       "      <td>0.021515</td>\n",
       "      <td>0.056449</td>\n",
       "      <td>0.080249</td>\n",
       "      <td>0.360288</td>\n",
       "      <td>0.104580</td>\n",
       "      <td>0.039563</td>\n",
       "      <td>0.048676</td>\n",
       "      <td>0.285733</td>\n",
       "    </tr>\n",
       "    <tr>\n",
       "      <th>R6</th>\n",
       "      <td>0.000366</td>\n",
       "      <td>0.002122</td>\n",
       "      <td>0.005247</td>\n",
       "      <td>0.023738</td>\n",
       "      <td>0.057270</td>\n",
       "      <td>0.358976</td>\n",
       "      <td>0.076090</td>\n",
       "      <td>0.076248</td>\n",
       "      <td>0.399942</td>\n",
       "    </tr>\n",
       "    <tr>\n",
       "      <th>R7</th>\n",
       "      <td>0.000109</td>\n",
       "      <td>0.000989</td>\n",
       "      <td>0.002660</td>\n",
       "      <td>0.005319</td>\n",
       "      <td>0.033898</td>\n",
       "      <td>0.059943</td>\n",
       "      <td>0.120164</td>\n",
       "      <td>0.149564</td>\n",
       "      <td>0.627354</td>\n",
       "    </tr>\n",
       "    <tr>\n",
       "      <th>R8</th>\n",
       "      <td>0.000015</td>\n",
       "      <td>0.000107</td>\n",
       "      <td>0.000274</td>\n",
       "      <td>0.001424</td>\n",
       "      <td>0.004639</td>\n",
       "      <td>0.039546</td>\n",
       "      <td>0.015588</td>\n",
       "      <td>0.131509</td>\n",
       "      <td>0.806897</td>\n",
       "    </tr>\n",
       "    <tr>\n",
       "      <th>D</th>\n",
       "      <td>0.000000</td>\n",
       "      <td>0.000000</td>\n",
       "      <td>0.000000</td>\n",
       "      <td>0.000000</td>\n",
       "      <td>0.000000</td>\n",
       "      <td>0.000000</td>\n",
       "      <td>0.000000</td>\n",
       "      <td>0.000000</td>\n",
       "      <td>0.000000</td>\n",
       "    </tr>\n",
       "  </tbody>\n",
       "</table>\n",
       "</div>"
      ],
      "text/plain": [
       "          R1        R2        R3        R4        R5        R6        R7  \\\n",
       "R1  0.854248  0.082978  0.004238  0.000807  0.000088  0.000013  0.000006   \n",
       "R2  0.055611  0.772815  0.080046  0.015590  0.002369  0.000415  0.000176   \n",
       "R3  0.036639  0.048076  0.753121  0.058729  0.032536  0.004850  0.001966   \n",
       "R4  0.015706  0.048864  0.097798  0.556755  0.045326  0.022727  0.009304   \n",
       "R5  0.002946  0.021515  0.056449  0.080249  0.360288  0.104580  0.039563   \n",
       "R6  0.000366  0.002122  0.005247  0.023738  0.057270  0.358976  0.076090   \n",
       "R7  0.000109  0.000989  0.002660  0.005319  0.033898  0.059943  0.120164   \n",
       "R8  0.000015  0.000107  0.000274  0.001424  0.004639  0.039546  0.015588   \n",
       "D   0.000000  0.000000  0.000000  0.000000  0.000000  0.000000  0.000000   \n",
       "\n",
       "          R8         D  \n",
       "R1  0.000012  0.057611  \n",
       "R2  0.000349  0.072630  \n",
       "R3  0.002795  0.061289  \n",
       "R4  0.020869  0.182650  \n",
       "R5  0.048676  0.285733  \n",
       "R6  0.076248  0.399942  \n",
       "R7  0.149564  0.627354  \n",
       "R8  0.131509  0.806897  \n",
       "D   0.000000  0.000000  "
      ]
     },
     "execution_count": 37,
     "metadata": {},
     "output_type": "execute_result"
    }
   ],
   "source": [
    "year3_2_exponential"
   ]
  },
  {
   "cell_type": "markdown",
   "metadata": {},
   "source": [
    "Подобная оценка выглядит куда приятнее, чем когортным методом."
   ]
  },
  {
   "cell_type": "code",
   "execution_count": 38,
   "metadata": {},
   "outputs": [
    {
     "data": {
      "text/html": [
       "<div>\n",
       "<style scoped>\n",
       "    .dataframe tbody tr th:only-of-type {\n",
       "        vertical-align: middle;\n",
       "    }\n",
       "\n",
       "    .dataframe tbody tr th {\n",
       "        vertical-align: top;\n",
       "    }\n",
       "\n",
       "    .dataframe thead th {\n",
       "        text-align: right;\n",
       "    }\n",
       "</style>\n",
       "<table border=\"1\" class=\"dataframe\">\n",
       "  <thead>\n",
       "    <tr style=\"text-align: right;\">\n",
       "      <th></th>\n",
       "      <th>R1</th>\n",
       "      <th>R2</th>\n",
       "      <th>R3</th>\n",
       "      <th>R4</th>\n",
       "      <th>R5</th>\n",
       "      <th>R6</th>\n",
       "      <th>R7</th>\n",
       "      <th>R8</th>\n",
       "      <th>D</th>\n",
       "    </tr>\n",
       "  </thead>\n",
       "  <tbody>\n",
       "    <tr>\n",
       "      <th>R1</th>\n",
       "      <td>0.006695</td>\n",
       "      <td>0.008212</td>\n",
       "      <td>0.001784</td>\n",
       "      <td>0.000775</td>\n",
       "      <td>0.000069</td>\n",
       "      <td>0.000013</td>\n",
       "      <td>0.000006</td>\n",
       "      <td>0.000012</td>\n",
       "      <td>0.043842</td>\n",
       "    </tr>\n",
       "    <tr>\n",
       "      <th>R2</th>\n",
       "      <td>0.005133</td>\n",
       "      <td>0.008431</td>\n",
       "      <td>0.003136</td>\n",
       "      <td>0.002528</td>\n",
       "      <td>0.000202</td>\n",
       "      <td>0.000286</td>\n",
       "      <td>0.000019</td>\n",
       "      <td>0.000067</td>\n",
       "      <td>0.062333</td>\n",
       "    </tr>\n",
       "    <tr>\n",
       "      <th>R3</th>\n",
       "      <td>0.004821</td>\n",
       "      <td>0.000627</td>\n",
       "      <td>0.002299</td>\n",
       "      <td>0.007554</td>\n",
       "      <td>0.004276</td>\n",
       "      <td>0.003664</td>\n",
       "      <td>0.001599</td>\n",
       "      <td>0.001167</td>\n",
       "      <td>0.047856</td>\n",
       "    </tr>\n",
       "    <tr>\n",
       "      <th>R4</th>\n",
       "      <td>0.000116</td>\n",
       "      <td>0.000993</td>\n",
       "      <td>0.003687</td>\n",
       "      <td>0.008059</td>\n",
       "      <td>0.001686</td>\n",
       "      <td>0.007818</td>\n",
       "      <td>0.000863</td>\n",
       "      <td>0.002510</td>\n",
       "      <td>0.134588</td>\n",
       "    </tr>\n",
       "    <tr>\n",
       "      <th>R5</th>\n",
       "      <td>0.000019</td>\n",
       "      <td>0.007695</td>\n",
       "      <td>0.001958</td>\n",
       "      <td>0.018442</td>\n",
       "      <td>0.021047</td>\n",
       "      <td>0.021609</td>\n",
       "      <td>0.006652</td>\n",
       "      <td>0.020485</td>\n",
       "      <td>0.199285</td>\n",
       "    </tr>\n",
       "    <tr>\n",
       "      <th>R6</th>\n",
       "      <td>0.000245</td>\n",
       "      <td>0.001047</td>\n",
       "      <td>0.003249</td>\n",
       "      <td>0.005137</td>\n",
       "      <td>0.010268</td>\n",
       "      <td>0.003819</td>\n",
       "      <td>0.011343</td>\n",
       "      <td>0.005651</td>\n",
       "      <td>0.328430</td>\n",
       "    </tr>\n",
       "    <tr>\n",
       "      <th>R7</th>\n",
       "      <td>0.000221</td>\n",
       "      <td>0.000080</td>\n",
       "      <td>0.001470</td>\n",
       "      <td>0.011279</td>\n",
       "      <td>0.014107</td>\n",
       "      <td>0.018545</td>\n",
       "      <td>0.013011</td>\n",
       "      <td>0.032619</td>\n",
       "      <td>0.481187</td>\n",
       "    </tr>\n",
       "    <tr>\n",
       "      <th>R8</th>\n",
       "      <td>0.000015</td>\n",
       "      <td>0.000107</td>\n",
       "      <td>0.000274</td>\n",
       "      <td>0.001499</td>\n",
       "      <td>0.000021</td>\n",
       "      <td>0.019694</td>\n",
       "      <td>0.015850</td>\n",
       "      <td>0.012571</td>\n",
       "      <td>0.652549</td>\n",
       "    </tr>\n",
       "    <tr>\n",
       "      <th>D</th>\n",
       "      <td>0.000000</td>\n",
       "      <td>0.000000</td>\n",
       "      <td>0.000000</td>\n",
       "      <td>0.000000</td>\n",
       "      <td>0.000000</td>\n",
       "      <td>0.000000</td>\n",
       "      <td>0.000000</td>\n",
       "      <td>0.000000</td>\n",
       "      <td>0.000000</td>\n",
       "    </tr>\n",
       "  </tbody>\n",
       "</table>\n",
       "</div>"
      ],
      "text/plain": [
       "          R1        R2        R3        R4        R5        R6        R7  \\\n",
       "R1  0.006695  0.008212  0.001784  0.000775  0.000069  0.000013  0.000006   \n",
       "R2  0.005133  0.008431  0.003136  0.002528  0.000202  0.000286  0.000019   \n",
       "R3  0.004821  0.000627  0.002299  0.007554  0.004276  0.003664  0.001599   \n",
       "R4  0.000116  0.000993  0.003687  0.008059  0.001686  0.007818  0.000863   \n",
       "R5  0.000019  0.007695  0.001958  0.018442  0.021047  0.021609  0.006652   \n",
       "R6  0.000245  0.001047  0.003249  0.005137  0.010268  0.003819  0.011343   \n",
       "R7  0.000221  0.000080  0.001470  0.011279  0.014107  0.018545  0.013011   \n",
       "R8  0.000015  0.000107  0.000274  0.001499  0.000021  0.019694  0.015850   \n",
       "D   0.000000  0.000000  0.000000  0.000000  0.000000  0.000000  0.000000   \n",
       "\n",
       "          R8         D  \n",
       "R1  0.000012  0.043842  \n",
       "R2  0.000067  0.062333  \n",
       "R3  0.001167  0.047856  \n",
       "R4  0.002510  0.134588  \n",
       "R5  0.020485  0.199285  \n",
       "R6  0.005651  0.328430  \n",
       "R7  0.032619  0.481187  \n",
       "R8  0.012571  0.652549  \n",
       "D   0.000000  0.000000  "
      ]
     },
     "execution_count": 38,
     "metadata": {},
     "output_type": "execute_result"
    }
   ],
   "source": [
    "abs(year3_2_exponential - year_2_probability_matrix @ year_3_probability_matrix @ year_4_probability_matrix)"
   ]
  },
  {
   "cell_type": "markdown",
   "metadata": {},
   "source": [
    "# 7."
   ]
  },
  {
   "cell_type": "code",
   "execution_count": 126,
   "metadata": {},
   "outputs": [
    {
     "data": {
      "image/png": "[encoded data removed]",
      "text/plain": [
       "<Figure size 1440x720 with 1 Axes>"
      ]
     },
     "metadata": {
      "needs_background": "light"
     },
     "output_type": "display_data"
    }
   ],
   "source": [
    "plt.figure(figsize=(20,10))\n",
    "\n",
    "bins = np.linspace(0, 100, 100)\n",
    "\n",
    "plt.hist(spread_data[spread_data.rating == 1]['z-score'], bins, alpha=0.7, label='R1')\n",
    "plt.hist(spread_data[spread_data.rating == 2]['z-score'], bins, alpha=0.7, label='R2')\n",
    "plt.hist(spread_data[spread_data.rating == 3]['z-score'], bins, alpha=0.7, label='R3')\n",
    "plt.hist(spread_data[spread_data.rating == 4]['z-score'], bins, alpha=0.7, label='R4')\n",
    "plt.hist(spread_data[spread_data.rating == 5]['z-score'], bins, alpha=0.7, label='R5')\n",
    "plt.hist(spread_data[spread_data.rating == 6]['z-score'], bins, alpha=0.7, label='R6')\n",
    "plt.hist(spread_data[spread_data.rating == 7]['z-score'], bins, alpha=0.7, label='R7')\n",
    "plt.hist(spread_data[spread_data.rating == 8]['z-score'], bins, alpha=0.7, label='R8')\n",
    "\n",
    "plt.title('Z-spread distributions', fontsize = 25)\n",
    "plt.legend(loc='upper right', fontsize = 20)\n",
    "plt.tick_params(labelsize=20)\n",
    "\n",
    "plt.show()"
   ]
  },
  {
   "cell_type": "code",
   "execution_count": 40,
   "metadata": {},
   "outputs": [
    {
     "data": {
      "image/png": "[encoded data removed]",
      "text/plain": [
       "<Figure size 1440x720 with 1 Axes>"
      ]
     },
     "metadata": {
      "needs_background": "light"
     },
     "output_type": "display_data"
    }
   ],
   "source": [
    "plt.figure(figsize=(20,10))\n",
    "\n",
    "bins = np.linspace(0, 30, 100)\n",
    "\n",
    "plt.hist(spread_data[spread_data.rating == 1]['z-score'], bins, alpha=0.7, label='R1')\n",
    "plt.hist(spread_data[spread_data.rating == 2]['z-score'], bins, alpha=0.7, label='R2')\n",
    "plt.hist(spread_data[spread_data.rating == 3]['z-score'], bins, alpha=0.7, label='R3')\n",
    "plt.hist(spread_data[spread_data.rating == 4]['z-score'], bins, alpha=0.7, label='R4')\n",
    "plt.hist(spread_data[spread_data.rating == 5]['z-score'], bins, alpha=0.7, label='R5')\n",
    "plt.hist(spread_data[spread_data.rating == 6]['z-score'], bins, alpha=0.7, label='R6')\n",
    "plt.hist(spread_data[spread_data.rating == 7]['z-score'], bins, alpha=0.7, label='R7')\n",
    "plt.hist(spread_data[spread_data.rating == 8]['z-score'], bins, alpha=0.7, label='R8')\n",
    "\n",
    "plt.xlim(0, 30)\n",
    "plt.title('Z-spread distributions', fontsize = 25)\n",
    "plt.legend(loc='upper right', fontsize = 20)\n",
    "plt.tick_params(labelsize=20)\n",
    "\n",
    "plt.show()"
   ]
  },
  {
   "cell_type": "code",
   "execution_count": 50,
   "metadata": {},
   "outputs": [],
   "source": [
    "VaR_spreads_list = [spread_data[spread_data.rating == 1]['z-score'].quantile(q = 0.95, interpolation = 'higher'), \n",
    "                    spread_data[spread_data.rating == 2]['z-score'].quantile(q = 0.95, interpolation = 'higher'),\n",
    "                    spread_data[spread_data.rating == 3]['z-score'].quantile(q = 0.95, interpolation = 'higher'),\n",
    "                    spread_data[spread_data.rating == 4]['z-score'].quantile(q = 0.95, interpolation = 'higher'),\n",
    "                    spread_data[spread_data.rating == 5]['z-score'].quantile(q = 0.95, interpolation = 'higher'),\n",
    "                    spread_data[spread_data.rating == 6]['z-score'].quantile(q = 0.95, interpolation = 'higher'),\n",
    "                    spread_data[spread_data.rating == 7]['z-score'].quantile(q = 0.95, interpolation = 'higher'),\n",
    "                    spread_data[spread_data.rating == 8]['z-score'].quantile(q = 0.95, interpolation = 'higher'),\n",
    "                   'D']\n",
    "Spread_means = [spread_data[spread_data.rating == 1]['z-score'].mean(), \n",
    "                spread_data[spread_data.rating == 2]['z-score'].mean(), \n",
    "                spread_data[spread_data.rating == 3]['z-score'].mean(), \n",
    "                spread_data[spread_data.rating == 4]['z-score'].mean(), \n",
    "                spread_data[spread_data.rating == 5]['z-score'].mean(), \n",
    "                spread_data[spread_data.rating == 6]['z-score'].mean(), \n",
    "                spread_data[spread_data.rating == 7]['z-score'].mean(), \n",
    "                spread_data[spread_data.rating == 8]['z-score'].mean()]\n",
    "\n",
    "VaR_spreads = pd.DataFrame([VaR_spreads_list], columns=year_1_probability_matrix.columns, \n",
    "                          index = ['Quantile'])\n",
    "\n",
    "Discriptive_statistics = pd.DataFrame([Spread_means, VaR_spreads_list[:-1]], columns=year_1_probability_matrix.columns[:-1],\n",
    "                                      index = ['Mean', 'Quantile'])"
   ]
  },
  {
   "cell_type": "code",
   "execution_count": 100,
   "metadata": {},
   "outputs": [],
   "source": [
    "mean_spreads = np.array(Discriptive_statistics.T['Mean'])"
   ]
  },
  {
   "cell_type": "code",
   "execution_count": 109,
   "metadata": {},
   "outputs": [],
   "source": [
    "horizon = 1\n",
    "\n",
    "expected_portfolio_1 = np.zeros(bond_data.shape[0])\n",
    "\n",
    "for i in range(bond_data.shape[0]):\n",
    "    bond_i = bond(bond_type = bond_data.iloc[i].type,\n",
    "                  coupon_rate = bond_data.iloc[i].coupon / 2,\n",
    "                  maturity = bond_data.iloc[i].maturity)\n",
    "    \n",
    "    price = future_bond(bond_i, horizon).dcf(rates_curve = rf_rates, spread = VaR_spread).sum()\n",
    "    expected_portfolio_1[i] = price    "
   ]
  },
  {
   "cell_type": "code",
   "execution_count": 53,
   "metadata": {},
   "outputs": [
    {
     "data": {
      "text/html": [
       "<div>\n",
       "<style scoped>\n",
       "    .dataframe tbody tr th:only-of-type {\n",
       "        vertical-align: middle;\n",
       "    }\n",
       "\n",
       "    .dataframe tbody tr th {\n",
       "        vertical-align: top;\n",
       "    }\n",
       "\n",
       "    .dataframe thead th {\n",
       "        text-align: right;\n",
       "    }\n",
       "</style>\n",
       "<table border=\"1\" class=\"dataframe\">\n",
       "  <thead>\n",
       "    <tr style=\"text-align: right;\">\n",
       "      <th></th>\n",
       "      <th>R1</th>\n",
       "      <th>R2</th>\n",
       "      <th>R3</th>\n",
       "      <th>R4</th>\n",
       "      <th>R5</th>\n",
       "      <th>R6</th>\n",
       "      <th>R7</th>\n",
       "      <th>R8</th>\n",
       "      <th>D</th>\n",
       "    </tr>\n",
       "  </thead>\n",
       "  <tbody>\n",
       "    <tr>\n",
       "      <th>R1</th>\n",
       "      <td>0.888953</td>\n",
       "      <td>0.062002</td>\n",
       "      <td>0.002619</td>\n",
       "      <td>0.000875</td>\n",
       "      <td>0.000334</td>\n",
       "      <td>0.000045</td>\n",
       "      <td>0.000017</td>\n",
       "      <td>0.000017</td>\n",
       "      <td>0.045138</td>\n",
       "    </tr>\n",
       "    <tr>\n",
       "      <th>R2</th>\n",
       "      <td>0.026587</td>\n",
       "      <td>0.785539</td>\n",
       "      <td>0.066618</td>\n",
       "      <td>0.022294</td>\n",
       "      <td>0.009012</td>\n",
       "      <td>0.001658</td>\n",
       "      <td>0.000649</td>\n",
       "      <td>0.000656</td>\n",
       "      <td>0.086988</td>\n",
       "    </tr>\n",
       "    <tr>\n",
       "      <th>R3</th>\n",
       "      <td>0.036285</td>\n",
       "      <td>0.059212</td>\n",
       "      <td>0.684462</td>\n",
       "      <td>0.054397</td>\n",
       "      <td>0.054751</td>\n",
       "      <td>0.010949</td>\n",
       "      <td>0.003958</td>\n",
       "      <td>0.003693</td>\n",
       "      <td>0.092294</td>\n",
       "    </tr>\n",
       "    <tr>\n",
       "      <th>R4</th>\n",
       "      <td>0.018088</td>\n",
       "      <td>0.052871</td>\n",
       "      <td>0.081048</td>\n",
       "      <td>0.538802</td>\n",
       "      <td>0.051843</td>\n",
       "      <td>0.036043</td>\n",
       "      <td>0.013578</td>\n",
       "      <td>0.017275</td>\n",
       "      <td>0.190452</td>\n",
       "    </tr>\n",
       "    <tr>\n",
       "      <th>R5</th>\n",
       "      <td>0.003316</td>\n",
       "      <td>0.034513</td>\n",
       "      <td>0.067649</td>\n",
       "      <td>0.073962</td>\n",
       "      <td>0.363532</td>\n",
       "      <td>0.090879</td>\n",
       "      <td>0.043664</td>\n",
       "      <td>0.044011</td>\n",
       "      <td>0.278475</td>\n",
       "    </tr>\n",
       "    <tr>\n",
       "      <th>R6</th>\n",
       "      <td>0.000839</td>\n",
       "      <td>0.004046</td>\n",
       "      <td>0.021709</td>\n",
       "      <td>0.020324</td>\n",
       "      <td>0.068383</td>\n",
       "      <td>0.290549</td>\n",
       "      <td>0.083257</td>\n",
       "      <td>0.085239</td>\n",
       "      <td>0.425654</td>\n",
       "    </tr>\n",
       "    <tr>\n",
       "      <th>R7</th>\n",
       "      <td>0.000174</td>\n",
       "      <td>0.002005</td>\n",
       "      <td>0.005313</td>\n",
       "      <td>0.005785</td>\n",
       "      <td>0.043284</td>\n",
       "      <td>0.060812</td>\n",
       "      <td>0.136751</td>\n",
       "      <td>0.151018</td>\n",
       "      <td>0.594858</td>\n",
       "    </tr>\n",
       "    <tr>\n",
       "      <th>R8</th>\n",
       "      <td>0.000032</td>\n",
       "      <td>0.000196</td>\n",
       "      <td>0.001160</td>\n",
       "      <td>0.001132</td>\n",
       "      <td>0.005475</td>\n",
       "      <td>0.032118</td>\n",
       "      <td>0.018418</td>\n",
       "      <td>0.144047</td>\n",
       "      <td>0.797422</td>\n",
       "    </tr>\n",
       "    <tr>\n",
       "      <th>D</th>\n",
       "      <td>0.000000</td>\n",
       "      <td>0.000000</td>\n",
       "      <td>0.000000</td>\n",
       "      <td>0.000000</td>\n",
       "      <td>0.000000</td>\n",
       "      <td>0.000000</td>\n",
       "      <td>0.000000</td>\n",
       "      <td>0.000000</td>\n",
       "      <td>0.000000</td>\n",
       "    </tr>\n",
       "  </tbody>\n",
       "</table>\n",
       "</div>"
      ],
      "text/plain": [
       "          R1        R2        R3        R4        R5        R6        R7  \\\n",
       "R1  0.888953  0.062002  0.002619  0.000875  0.000334  0.000045  0.000017   \n",
       "R2  0.026587  0.785539  0.066618  0.022294  0.009012  0.001658  0.000649   \n",
       "R3  0.036285  0.059212  0.684462  0.054397  0.054751  0.010949  0.003958   \n",
       "R4  0.018088  0.052871  0.081048  0.538802  0.051843  0.036043  0.013578   \n",
       "R5  0.003316  0.034513  0.067649  0.073962  0.363532  0.090879  0.043664   \n",
       "R6  0.000839  0.004046  0.021709  0.020324  0.068383  0.290549  0.083257   \n",
       "R7  0.000174  0.002005  0.005313  0.005785  0.043284  0.060812  0.136751   \n",
       "R8  0.000032  0.000196  0.001160  0.001132  0.005475  0.032118  0.018418   \n",
       "D   0.000000  0.000000  0.000000  0.000000  0.000000  0.000000  0.000000   \n",
       "\n",
       "          R8         D  \n",
       "R1  0.000017  0.045138  \n",
       "R2  0.000656  0.086988  \n",
       "R3  0.003693  0.092294  \n",
       "R4  0.017275  0.190452  \n",
       "R5  0.044011  0.278475  \n",
       "R6  0.085239  0.425654  \n",
       "R7  0.151018  0.594858  \n",
       "R8  0.144047  0.797422  \n",
       "D   0.000000  0.000000  "
      ]
     },
     "execution_count": 53,
     "metadata": {},
     "output_type": "execute_result"
    }
   ],
   "source": [
    "year3_1_exponential"
   ]
  },
  {
   "cell_type": "code",
   "execution_count": 54,
   "metadata": {},
   "outputs": [
    {
     "name": "stdout",
     "output_type": "stream",
     "text": [
      "CPU times: user 4min 52s, sys: 1.9 s, total: 4min 54s\n",
      "Wall time: 4min 54s\n"
     ]
    }
   ],
   "source": [
    "%%time\n",
    "np.random.seed(1)\n",
    "\n",
    "N = 1000\n",
    "horizon = 1\n",
    "\n",
    "price_matrix_1_1 = np.zeros([N, bond_data.shape[0]])\n",
    "\n",
    "for i in range(bond_data.shape[0]):\n",
    "    \n",
    "    bond_i = bond(bond_type = bond_data.iloc[i].type, \n",
    "                coupon_rate = bond_data.iloc[i].coupon / 2, \n",
    "                maturity = bond_data.iloc[i].maturity)\n",
    "    \n",
    "    for j in range(N):\n",
    "        \n",
    "        scenario = np.random.choice(VaR_spreads.columns.tolist(), 1, \n",
    "                                    p=year_1_exponential.iloc[int(bond_data.iloc[i].rating) - 1].tolist())[0]\n",
    "        \n",
    "        if scenario == 'D':\n",
    "            price = bond_i.default_value(horizon=horizon)\n",
    "        else:\n",
    "            VaR_spread = VaR_spreads[scenario][0]\n",
    "            price = future_bond(bond_i, horizon).dcf(rates_curve = rf_rates, spread = VaR_spread).sum()\n",
    "            \n",
    "        if price.shape == (0,):\n",
    "            price = 0\n",
    "        \n",
    "        price_matrix_1_1[j, i] = price       "
   ]
  },
  {
   "cell_type": "code",
   "execution_count": 110,
   "metadata": {},
   "outputs": [
    {
     "name": "stdout",
     "output_type": "stream",
     "text": [
      "VaR is 41485.77915211056\n",
      "Relative VaR 7757.174019910679\n"
     ]
    },
    {
     "data": {
      "image/png": "[encoded data removed]",
      "text/plain": [
       "<Figure size 1440x720 with 1 Axes>"
      ]
     },
     "metadata": {
      "needs_background": "light"
     },
     "output_type": "display_data"
    }
   ],
   "source": [
    "print('VaR is', np.percentile(price_matrix_1_1.sum(axis = 1), q = 0.05, interpolation = 'higher'))\n",
    "print('Relative VaR', expected_portfolio_1.sum() - np.percentile(price_matrix_1_1.sum(axis = 1), \n",
    "                                                                                  q = 0.05, interpolation = 'higher'))\n",
    "plt.figure(figsize = (20,10))\n",
    "plt.hist(price_matrix_1_1.sum(axis = 1), bins = 50, color='c', )\n",
    "plt.vlines(expected_portfolio_1.sum(), ymin = 0, ymax = 70, linestyles='dashed', lw = 5)\n",
    "plt.vlines(np.percentile(price_matrix_1_1.sum(axis = 1), q = 0.05, interpolation = 'higher'), \n",
    "           ymin = 0, ymax = 70, linestyles='dashed', lw = 5, color = 'red')\n",
    "\n",
    "plt.annotate('VaR', xy=(41550, 68), fontsize = 25, color = 'red')\n",
    "plt.annotate('Expected value', xy=(47550, 68), fontsize = 25, color = 'k')\n",
    "plt.tick_params(labelsize=20)\n",
    "plt.title('Portfolio value distribution in 1 year', fontsize = 25);"
   ]
  },
  {
   "cell_type": "code",
   "execution_count": 111,
   "metadata": {},
   "outputs": [],
   "source": [
    "horizon = 3\n",
    "\n",
    "expected_portfolio_3 = np.zeros(bond_data.shape[0])\n",
    "\n",
    "for i in range(bond_data.shape[0]):\n",
    "    bond_i = bond(bond_type = bond_data.iloc[i].type,\n",
    "                  coupon_rate = bond_data.iloc[i].coupon / 2,\n",
    "                  maturity = bond_data.iloc[i].maturity)\n",
    "    \n",
    "    price = future_bond(bond_i, horizon).dcf(rates_curve = rf_rates, spread = VaR_spread).sum()\n",
    "    expected_portfolio_3[i] = price    "
   ]
  },
  {
   "cell_type": "code",
   "execution_count": 57,
   "metadata": {},
   "outputs": [
    {
     "name": "stdout",
     "output_type": "stream",
     "text": [
      "CPU times: user 4min 45s, sys: 1.7 s, total: 4min 47s\n",
      "Wall time: 4min 47s\n"
     ]
    }
   ],
   "source": [
    "%%time\n",
    "np.random.seed(1)\n",
    "\n",
    "N = 1000\n",
    "horizon = 3\n",
    "\n",
    "price_matrix_1_3 = np.zeros([N, bond_data.shape[0]])\n",
    "\n",
    "for i in range(bond_data.shape[0]):\n",
    "    \n",
    "    bond_i = bond(bond_type = bond_data.iloc[i].type, \n",
    "                coupon_rate = bond_data.iloc[i].coupon / 2, \n",
    "                maturity = bond_data.iloc[i].maturity)\n",
    "    \n",
    "    for j in range(N):\n",
    "        \n",
    "        scenario = np.random.choice(VaR_spreads.columns.tolist(), 1, \n",
    "                                    p=year3_1_exponential.iloc[int(bond_data.iloc[i].rating) - 1].tolist())[0]\n",
    "        \n",
    "        if scenario == 'D':\n",
    "            price = bond_i.default_value(horizon=horizon)\n",
    "        else:\n",
    "            VaR_spread = VaR_spreads[scenario][0]\n",
    "            price = future_bond(bond_i, horizon).dcf(rates_curve = rf_rates, spread = VaR_spread).sum()\n",
    "            \n",
    "        if price.shape == (0,):\n",
    "            price = 0\n",
    "        \n",
    "        price_matrix_1_3[j, i] = price       "
   ]
  },
  {
   "cell_type": "code",
   "execution_count": 117,
   "metadata": {},
   "outputs": [
    {
     "name": "stdout",
     "output_type": "stream",
     "text": [
      "VaR is 14690.384541054049\n",
      "Relative VaR 2935.0366961161853\n"
     ]
    },
    {
     "data": {
      "image/png": "[encoded data removed]",
      "text/plain": [
       "<Figure size 1080x540 with 1 Axes>"
      ]
     },
     "metadata": {
      "needs_background": "light"
     },
     "output_type": "display_data"
    }
   ],
   "source": [
    "print('VaR is', np.percentile(price_matrix_1_3.sum(axis = 1), q = 0.05, interpolation = 'higher'))\n",
    "print('Relative VaR', expected_portfolio_3.sum() - np.percentile(price_matrix_1_3.sum(axis = 1), \n",
    "                                                                                  q = 0.05, interpolation = 'higher'))\n",
    "plt.figure(figsize = (15,7.5))\n",
    "plt.hist(price_matrix_1_3.sum(axis = 1), bins = 50, color='c', )\n",
    "plt.vlines(expected_portfolio_3.sum(), ymin = 0, ymax = 63, linestyles='dashed', lw = 5)\n",
    "plt.vlines(np.percentile(price_matrix_1_3.sum(axis = 1), q = 0.05, interpolation = 'higher'), \n",
    "           ymin = 0, ymax = 63, linestyles='dashed', lw = 5, color = 'red')\n",
    "\n",
    "plt.annotate('VaR', xy=(14750, 60), fontsize = 25, color = 'red')\n",
    "plt.annotate('Expected value', xy=(16800, 60), fontsize = 25, color = 'k')\n",
    "plt.tick_params(labelsize=20)\n",
    "plt.title('Portfolio value distribution in 3 years', fontsize = 25);"
   ]
  },
  {
   "cell_type": "code",
   "execution_count": 84,
   "metadata": {},
   "outputs": [],
   "source": [
    "%%bash\n",
    "say finished"
   ]
  },
  {
   "cell_type": "markdown",
   "metadata": {},
   "source": [
    "# 8."
   ]
  },
  {
   "cell_type": "code",
   "execution_count": 75,
   "metadata": {},
   "outputs": [],
   "source": [
    "александрийская_библиотка = {'R1': spread_data[spread_data.rating == 1]['z-score'],\n",
    "                             'R2': spread_data[spread_data.rating == 2]['z-score'],\n",
    "                             'R3': spread_data[spread_data.rating == 3]['z-score'],\n",
    "                             'R4': spread_data[spread_data.rating == 4]['z-score'],\n",
    "                             'R5': spread_data[spread_data.rating == 5]['z-score'],\n",
    "                             'R6': spread_data[spread_data.rating == 6]['z-score'],\n",
    "                             'R7': spread_data[spread_data.rating == 7]['z-score'],\n",
    "                             'R8': spread_data[spread_data.rating == 8]['z-score']}"
   ]
  },
  {
   "cell_type": "code",
   "execution_count": 76,
   "metadata": {},
   "outputs": [
    {
     "name": "stdout",
     "output_type": "stream",
     "text": [
      "CPU times: user 4min 53s, sys: 1.91 s, total: 4min 55s\n",
      "Wall time: 4min 57s\n"
     ]
    }
   ],
   "source": [
    "%%time\n",
    "np.random.seed(1)\n",
    "\n",
    "N = 1000\n",
    "horizon = 1\n",
    "\n",
    "price_matrix_2_1 = np.zeros([N, bond_data.shape[0]])\n",
    "\n",
    "for i in range(bond_data.shape[0]):\n",
    "    \n",
    "    bond_i = bond(bond_type = bond_data.iloc[i].type, \n",
    "                coupon_rate = bond_data.iloc[i].coupon / 2, \n",
    "                maturity = bond_data.iloc[i].maturity)\n",
    "    \n",
    "    for j in range(N):\n",
    "        \n",
    "        scenario = np.random.choice(VaR_spreads.columns.tolist(), 1, \n",
    "                                    p=year_1_exponential.iloc[int(bond_data.iloc[i].rating) - 1].tolist())[0]\n",
    "        \n",
    "        if scenario == 'D':\n",
    "            price = bond_i.default_value(horizon=horizon)\n",
    "        else:\n",
    "            spread_scenario = np.random.choice(александрийская_библиотка[scenario])\n",
    "            price = future_bond(bond_i, horizon).dcf(rates_curve = rf_rates, spread = spread_scenario).sum()\n",
    "            \n",
    "        if price.shape == (0,):\n",
    "            price = 0\n",
    "        \n",
    "        price_matrix_2_1[j, i] = price       "
   ]
  },
  {
   "cell_type": "code",
   "execution_count": 127,
   "metadata": {},
   "outputs": [
    {
     "name": "stdout",
     "output_type": "stream",
     "text": [
      "VaR is 42943.04404333431\n",
      "Relative VaR 6299.90912868693\n"
     ]
    },
    {
     "data": {
      "image/png": "[encoded data removed]",
      "text/plain": [
       "<Figure size 1080x540 with 1 Axes>"
      ]
     },
     "metadata": {
      "needs_background": "light"
     },
     "output_type": "display_data"
    }
   ],
   "source": [
    "print('VaR is', np.percentile(price_matrix_2_1.sum(axis = 1), q = 0.05, interpolation = 'higher'))\n",
    "print('Relative VaR', expected_portfolio_1.sum() - np.percentile(price_matrix_2_1.sum(axis = 1),\n",
    "                                                                                q = 0.05, interpolation = 'higher'))\n",
    "plt.figure(figsize = (15,7.5))\n",
    "plt.hist(price_matrix_2_1.sum(axis = 1), bins = 50, color='c', )\n",
    "plt.vlines(expected_portfolio_1.sum(), ymin = 0, ymax = 63, linestyles='dashed', lw = 5)\n",
    "plt.vlines(np.percentile(price_matrix_2_1.sum(axis = 1), q = 0.05, interpolation = 'higher'), \n",
    "           ymin = 0, ymax = 63, linestyles='dashed', lw = 5, color = 'red')\n",
    "\n",
    "plt.annotate('VaR', xy=(43000, 60), fontsize = 25, color = 'red')\n",
    "plt.annotate('Expected value', xy=(47500, 60), fontsize = 25, color = 'k')\n",
    "plt.tick_params(labelsize=20)\n",
    "plt.title('Portfolio value distribution in 1 year', fontsize = 25);"
   ]
  },
  {
   "cell_type": "code",
   "execution_count": 82,
   "metadata": {},
   "outputs": [
    {
     "name": "stdout",
     "output_type": "stream",
     "text": [
      "CPU times: user 4min 50s, sys: 1.74 s, total: 4min 52s\n",
      "Wall time: 4min 55s\n"
     ]
    }
   ],
   "source": [
    "%%time\n",
    "np.random.seed(1)\n",
    "\n",
    "N = 1000\n",
    "horizon = 3\n",
    "\n",
    "price_matrix_2_3 = np.zeros([N, bond_data.shape[0]])\n",
    "\n",
    "for i in range(bond_data.shape[0]):\n",
    "    \n",
    "    bond_i = bond(bond_type = bond_data.iloc[i].type, \n",
    "                coupon_rate = bond_data.iloc[i].coupon / 2, \n",
    "                maturity = bond_data.iloc[i].maturity)\n",
    "    \n",
    "    for j in range(N):\n",
    "        \n",
    "        scenario = np.random.choice(VaR_spreads.columns.tolist(), 1, \n",
    "                                    p=year3_1_exponential.iloc[int(bond_data.iloc[i].rating) - 1].tolist())[0]\n",
    "        \n",
    "        if scenario == 'D':\n",
    "            price = bond_i.default_value(horizon=horizon)\n",
    "        else:\n",
    "            spread_scenario = np.random.choice(александрийская_библиотка[scenario])\n",
    "            price = future_bond(bond_i, horizon).dcf(rates_curve = rf_rates, spread = spread_scenario).sum()\n",
    "            \n",
    "        if price.shape == (0,):\n",
    "            price = 0\n",
    "        \n",
    "        price_matrix_2_3[j, i] = price       "
   ]
  },
  {
   "cell_type": "code",
   "execution_count": 124,
   "metadata": {},
   "outputs": [
    {
     "name": "stdout",
     "output_type": "stream",
     "text": [
      "VaR is 15073.031383797781\n",
      "Relative VaR 2552.389853372453\n"
     ]
    },
    {
     "data": {
      "image/png": "[encoded data removed]",
      "text/plain": [
       "<Figure size 1080x540 with 1 Axes>"
      ]
     },
     "metadata": {
      "needs_background": "light"
     },
     "output_type": "display_data"
    }
   ],
   "source": [
    "print('VaR is', np.percentile(price_matrix_2_3.sum(axis = 1), q = 0.05, interpolation = 'higher'))\n",
    "print('Relative VaR', expected_portfolio_3.sum() - np.percentile(price_matrix_2_3.sum(axis = 1),\n",
    "                                                                                q = 0.05, interpolation = 'higher'))\n",
    "plt.figure(figsize = (15,7.5))\n",
    "plt.hist(price_matrix_2_3.sum(axis = 1), bins = 50, color='c', )\n",
    "plt.vlines(expected_portfolio_3.sum(), ymin = 0, ymax = 63, linestyles='dashed', lw = 5)\n",
    "plt.vlines(np.percentile(price_matrix_2_3.sum(axis = 1), q = 0.05, interpolation = 'higher'), \n",
    "           ymin = 0, ymax = 63, linestyles='dashed', lw = 5, color = 'red')\n",
    "\n",
    "plt.annotate('VaR', xy=(15100, 60), fontsize = 25, color = 'red')\n",
    "plt.annotate('Expected value', xy=(16900, 60), fontsize = 25, color = 'k')\n",
    "plt.tick_params(labelsize=20)\n",
    "plt.title('Portfolio value distribution in 3 years', fontsize = 25);"
   ]
  }
 ],
 "metadata": {
  "kernelspec": {
   "display_name": "Python 3",
   "language": "python",
   "name": "python3"
  },
  "language_info": {
   "codemirror_mode": {
    "name": "ipython",
    "version": 3
   },
   "file_extension": ".py",
   "mimetype": "text/x-python",
   "name": "python",
   "nbconvert_exporter": "python",
   "pygments_lexer": "ipython3",
   "version": "3.6.6"
  }
 },
 "nbformat": 4,
 "nbformat_minor": 2
}
